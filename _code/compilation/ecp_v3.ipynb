{
 "cells": [
  {
   "cell_type": "markdown",
   "metadata": {},
   "source": [
    "# Emissions-weighted carbon price"
   ]
  },
  {
   "cell_type": "markdown",
   "metadata": {},
   "source": [
    "## 0.1 Packages and libraries"
   ]
  },
  {
   "cell_type": "code",
   "execution_count": 1,
   "metadata": {},
   "outputs": [],
   "source": [
    "import csv\n",
    "import pprint\n",
    "import os\n",
    "import glob\n",
    "import pandas as pd\n",
    "import numpy as np\n",
    "import re\n",
    "\n",
    "import copy\n",
    "\n",
    "from pandas import read_csv\n",
    "from importlib.machinery import SourceFileLoader\n",
    "\n",
    "path_wcpd = '/Users/gd/GitHub/WorldCarbonPricingDatabase/_dataset/data/CO2'\n",
    "path_ghg = '/Users/gd/OneDrive - rff/documents/research/projects/ecp/ecp_dataset/source_data/ghg_inventory/raw'\n",
    "path_aux_data = '/Users/gd/OneDrive - rff/documents/research/projects/ecp/ecp_dataset'\n",
    "path_dependencies = '/Users/gd/GitHub/ECP/_code/compilation/dependencies'\n",
    "\n",
    "ecp_general = SourceFileLoader('general', path_dependencies+'/ecp_v3_gen_func.py').load_module()\n",
    "ecp_cov_fac = SourceFileLoader('coverage_factors', path_dependencies+'/ecp_v3_coverage_factors.py').load_module()\n",
    "ecp_inv_share = SourceFileLoader('inventory_share_func', path_dependencies+'/ecp_v3_inventory_share_func.py').load_module()\n",
    "ecp_coverage = SourceFileLoader('coverage', path_dependencies+'/ecp_v3_coverage.py').load_module()\n",
    "ecp_cur_conv = SourceFileLoader('currency_conversion', path_dependencies+'/ecp_v3_curr_conv.py').load_module()\n",
    "ecp_overlap = SourceFileLoader('overlap', path_dependencies+'/ecp_v3_overlap.py').load_module()"
   ]
  },
  {
   "cell_type": "markdown",
   "metadata": {},
   "source": [
    "# Institutional design (World Carbon Pricing Database)"
   ]
  },
  {
   "cell_type": "code",
   "execution_count": 2,
   "metadata": {},
   "outputs": [],
   "source": [
    "# LOAD WCPD DATAFRAMES\n",
    "\n",
    "wcpd_ctry = ecp_general.concatenate(path_wcpd+\"/national\")\n",
    "wcpd_subnat = ecp_general.concatenate(path_wcpd+\"/subnational\")\n",
    "wcpd_all = pd.concat([wcpd_ctry, wcpd_subnat]).sort_values(by=[\"jurisdiction\", \"year\"])\n",
    "\n",
    "# ADD COLUMN WITH IEA SECTOR CODES\n",
    "ipcc_iea_map = pd.read_csv(\"/Users/gd/GitHub/WorldCarbonPricingDatabase/_raw/_aux_files/IPCC2006-IEA-category-codes.csv\", \n",
    "                  usecols=[\"IPCC_CODE\", \"IEA_CODE\"])\n",
    "ipcc_iea_map.columns = [\"ipcc_code\", \"iea_code\"]\n",
    "\n",
    "wcpd_all = wcpd_all.merge(ipcc_iea_map, on=[\"ipcc_code\"], how=\"left\")\n",
    "\n",
    "# LISTS OF JURISDICTION NAMES\n",
    "\n",
    "ctry_names = list(wcpd_ctry.jurisdiction.unique())\n",
    "subnat_names = list(wcpd_subnat.jurisdiction.unique())\n",
    "\n",
    "std_ctry_names = [x.replace(\".\", \"\").replace(\",\", \"\").replace(\" \", \"_\") for x in ctry_names]\n",
    "countries_dic = dict(zip(ctry_names, std_ctry_names))\n",
    "\n",
    "std_subnat_names = [x.replace(\".\", \"\").replace(\",\", \"\").replace(\" \", \"_\") for x in subnat_names]\n",
    "subnat_dic = dict(zip(subnat_names, std_subnat_names))\n",
    "\n",
    "if len(wcpd_all[wcpd_all.duplicated(['jurisdiction', 'year', 'ipcc_code', 'Product'], keep=False)] != 0):\n",
    "    print(\"The dataset contains duplicates!\")"
   ]
  },
  {
   "cell_type": "code",
   "execution_count": 3,
   "metadata": {},
   "outputs": [],
   "source": [
    "# ADD COVERAGE FACTORS \n",
    "\n",
    "wcpd_all = ecp_cov_fac.coverage_factors(wcpd_all)"
   ]
  },
  {
   "cell_type": "code",
   "execution_count": 19,
   "metadata": {},
   "outputs": [],
   "source": [
    "# MECHANISM OVERLAP \n",
    "overlap = pd.read_csv(\"/Users/gd/GitHub/WorldCarbonPricingDatabase/_raw/overlap/overlap_mechanisms.csv\")\n",
    "\n",
    "wcpd_all = ecp_overlap.overlap(wcpd_all)"
   ]
  },
  {
   "cell_type": "markdown",
   "metadata": {},
   "source": [
    "# Emissions (currently CO2 only)\n",
    "## I. National jurisdictions \n",
    "### I.A Data processing \n",
    "#### I.A.1 Total GHG emissions (CAIT)"
   ]
  },
  {
   "cell_type": "code",
   "execution_count": 5,
   "metadata": {},
   "outputs": [],
   "source": [
    "# REPLACE CAIT COUNTRY NAMES WITH WORLD BANK COUNTRY NAMES\n",
    "\n",
    "cait_map = pd.read_csv(path_ghg+'/national/ClimateWatch/CAIT/CAIT_map.csv')\n",
    "cait = pd.read_csv(path_ghg+\"/national/ClimateWatch/CAIT/CAIT_2021/CW_CAIT_GHG_Emissions.csv\")\n",
    "cait = cait.drop(['Source'],axis=1)\n",
    "\n",
    "map_cait_ctry_iso = dict(zip(list(cait_map['ISO3_code'].values), list(cait_map['Ctry_name'].values)))\n",
    "\n",
    "map_cait_wb = {'Antigua & Barbuda': 'Antigua and Barbuda', 'Bosnia & Herzegovina': 'Bosnia and Herzegovina', 'Brunei': 'Brunei Darussalam',\n",
    "               'Cape Verde': 'Cabo Verde', 'Congo, Dem. Republic': 'Congo, Dem. Rep.', 'Democratic Republic of the Congo': 'Congo, Dem. Rep.',\n",
    "               'Congo': 'Congo, Rep.', \"CÃ´te d'Ivoire\": \"Cote d'Ivoire\", 'Egypt': 'Egypt, Arab Rep.', 'Gambia': 'Gambia, The',\n",
    "               'Iran': 'Iran, Islamic Rep.', 'Korea (North)': 'Korea, Dem. Rep.', 'North Korea': 'Korea, Dem. Rep.',\n",
    "               'Korea (South)': 'Korea, Rep.', 'South Korea': 'Korea, Rep.', 'Kyrgyzstan': 'Kyrgyz Republic', 'Laos': 'Lao, PDR',\n",
    "               'Macedonia, FYR':'North Macedonia', \n",
    "               'Sao Tome & Principe': 'Sao Tome and Principe', 'Slovakia': 'Slovak Republic', 'Saint Kitts & Nevis': 'St. Kitts and Nevis',\n",
    "               'Saint Lucia': 'St. Lucia', 'Saint Vincent & Grenadines': 'St. Vincent and Grenadines', 'United States of America': 'United States',\n",
    "               'Venezuela': 'Venezuela, RB', 'Syria': 'Syrian Arab Republic', 'Trinidad & Tobago': 'Trinidad and Tobago', 'Yemen': 'Yemen, Rep.'}\n",
    "\n",
    "cait['Country'] = cait['Country'].replace(to_replace=map_cait_ctry_iso)\n",
    "cait['Country'] = cait['Country'].replace(to_replace=map_cait_wb)"
   ]
  },
  {
   "cell_type": "code",
   "execution_count": 6,
   "metadata": {},
   "outputs": [],
   "source": [
    "# CREATE DATAFRAME WITH TOTAL CO2 AND GHG EMISSIONS - NATIONAL JURISDICTIONS\n",
    "\n",
    "gases = [\"CO2\", \"All GHG\"]\n",
    "col_names = {\"CO2\":\"Total_CO2_Emissions_Excluding_LUCF_MtCO2e\", \"All GHG\":\"Total_GHG_Emissions_Excluding_LUCF_MtCO2e\"}\n",
    "\n",
    "national_total = pd.DataFrame()\n",
    "\n",
    "for gas in gases:\n",
    "    cait_gas = cait[(cait['Gas']==gas) & (cait['Sector']=='Total excluding LUCF')]\n",
    "    cait_gas = cait_gas.drop(['Sector','Gas'],axis=1)\n",
    "    cait_gas = cait_gas.melt(id_vars='Country')\n",
    "    cait_gas.rename(columns={\"variable\":\"year\",\"value\":col_names[gas]},inplace=True)\n",
    "    \n",
    "    if national_total.empty == True:\n",
    "        national_total = cait_gas\n",
    "    else:\n",
    "        national_total = national_total.merge(cait_gas, on=[\"Country\", \"year\"])\n",
    "\n",
    "national_total = national_total[~national_total.Country.isin([\"European Union (25)\",\"European Union (28)\"])]\n",
    "national_total.rename(columns={\"Country\":\"jurisdiction\"}, inplace=True)\n",
    "national_total[\"year\"] = national_total[\"year\"].astype(int)\n",
    "\n",
    "national_total.to_csv(path_ghg+'/national/ClimateWatch/CAIT/CAIT_2021/CAIT_country_tot_2021_WBnames.csv',index=None)"
   ]
  },
  {
   "cell_type": "code",
   "execution_count": 7,
   "metadata": {},
   "outputs": [],
   "source": [
    "# CREATE DATAFRAME WITH TOTAL CO2 AND GHG EMISSIONS - WORLD\n",
    "\n",
    "world_total = national_total.loc[national_total['jurisdiction']=='World']\n",
    "world_total = world_total.drop('jurisdiction',axis=1)\n",
    "world_total.columns = ['year', 'World_CO2_Emissions', 'World_GHG_Emissions']\n",
    "\n",
    "world_total[\"year\"] = world_total[\"year\"].astype(int)\n",
    "world_total.to_csv(path_ghg+'/national/ClimateWatch/CAIT/CAIT_2021/ghg_world.csv',index=None)"
   ]
  },
  {
   "cell_type": "markdown",
   "metadata": {},
   "source": [
    "### I.A.2 Combustion emissions (International Energy Agency)\n",
    "#### I.A.2.1 Preliminary steps\n",
    "##### I.A.2.1.a Concatenate IEA yearly emissions files"
   ]
  },
  {
   "cell_type": "code",
   "execution_count": 52,
   "metadata": {},
   "outputs": [],
   "source": [
    "ecp_functions.concat_iea()"
   ]
  },
  {
   "cell_type": "markdown",
   "metadata": {},
   "source": [
    "##### I.A.2.1.b Aggregation (over all sub-products) of IEA CO2 emissions figures at 'aggregated product' level\n",
    "\n",
    "IEA data is disaggregated between 47 (46 + category 'Total') different fossil fuel products. Yet, most carbon pricing mechanisms set prices at a lower level of disaggregation, distinguishing between coal, oil and gas products. Hence we aggregate the IEA data at this level. The product categories retained here are: **'Coal/peat', 'Oil', 'Natural gas', 'Other',** and **'Total'** (sum of first four categories)"
   ]
  },
  {
   "cell_type": "code",
   "execution_count": 144,
   "metadata": {},
   "outputs": [],
   "source": [
    "result = {}\n",
    "\n",
    "with open(path_ghg+'/national/IEA/detailed_figures/emissions_allyears/iea_CO2em_ally.csv', 'r',\n",
    "         encoding = 'latin-1') as csvfile:\n",
    "    data_reader = csv.reader(csvfile)\n",
    "    next(data_reader, None)  # skip the headers\n",
    "\n",
    "    for row in data_reader:\n",
    "        #extract column value based on column index\n",
    "        year = row[6]\n",
    "        location = row[1]\n",
    "        product_code = row[2]\n",
    "        flow = row[4]\n",
    "        sector_name = row[5]\n",
    "        value = convert_value(row[8]) #uses the convert_value function created above\n",
    "        \n",
    "        #'product_code' function defined above; assigns a 'product category' to each of the sub-products based on its product code\n",
    "        product_category = get_product_category(product_code)\n",
    "\n",
    "        #initialise container of year key\n",
    "        if year not in result:\n",
    "            result[year] = {}\n",
    "            \n",
    "        #initialise container of location key\n",
    "        if location not in result[year]:\n",
    "                result[year][location] = {}\n",
    "            \n",
    "        # initialise container of product_category key if not present; that is, if the product category key is NOT already present in result, it will be addded to it\n",
    "        if product_category not in result[year][location]:\n",
    "            result[year][location][product_category] =  {}\n",
    "\n",
    "        #initialise container of flow-sector names if not present\n",
    "        if sector_name not in result[year][location][product_category]:\n",
    "            result[year][location][product_category][sector_name] = {}\n",
    "\n",
    "        # initialise container of flow codes if not present\n",
    "        if flow not in result[year][location][product_category][sector_name]:\n",
    "            result[year][location][product_category][sector_name][flow] = 0\n",
    "\n",
    "        # perform the aggregation (in the present case, for each row, the code adds the value of 'value' to the container)\n",
    "        result[year][location][product_category][sector_name][flow] += value\n",
    "        \n"
   ]
  },
  {
   "cell_type": "code",
   "execution_count": 146,
   "metadata": {},
   "outputs": [],
   "source": [
    "with open(path_ghg+'/national/IEA/detailed_figures/agg_product/iea_aggprod.csv', \"w\", encoding = 'utf-8') as csv_file:\n",
    "    writer = csv.writer(csv_file)\n",
    "    writer.writerow(('Country','year','Flow','Sector','Product','CO2_emissions'))\n",
    "\n",
    "    for year in result:\n",
    "        for location in result[year]:\n",
    "            for product_category in result[year][location]:\n",
    "                for sector_name in result[year][location][product_category]:\n",
    "                    for flow in result[year][location][product_category][sector_name]:\n",
    "                        writer.writerow((location, year, flow, sector_name, product_category, result[year][location][product_category][sector_name][flow]))\n",
    "                        \n",
    "os.remove(path_ghg+'/national/IEA/detailed_figures/emissions_allyears/iea_CO2em_ally.csv')                "
   ]
  },
  {
   "cell_type": "markdown",
   "metadata": {},
   "source": [
    "##### I.A.2.1.c Replace country names by WB country names list\n",
    "We standardize country names to those used by the World Bank. Note regarding China: the coding below implies that 'China' does not include Hong Kong and refers to \"People's Republic of China\" only (the approach adopted by the World Bank). "
   ]
  },
  {
   "cell_type": "code",
   "execution_count": 147,
   "metadata": {},
   "outputs": [],
   "source": [
    "data = pd.read_csv(path_ghg+\"/national/IEA/detailed_figures/agg_product/iea_aggprod.csv\",\n",
    "                  encoding = \"utf-8\") #specify encoding\n",
    "data = pd.DataFrame(data)\n",
    "\n",
    "map_iea_wb = {\"CÃ\\x83Â´te d'Ivoire\": \"Cote d'Ivoire\", \"CÃ´te d'Ivoire\": \"Cote d'Ivoire\",\n",
    "              '\"China (P.R. of China and Hong Kong, China)\"': 'China (P.R. of China and Hong Kong, China)',\n",
    "              \"People's Republic of China\": 'China', 'CuraÃ\\x83Â§ao/Netherlands Antilles': 'Curacao/Netherlands Antilles',\n",
    "              'CuraÃ§ao': 'Curacao', 'CuraÃ§ao/Netherlands Antilles': 'Curacao/Netherlands Antilles',\n",
    "              'Democratic Republic of Congo': 'Congo, Dem. Rep.', 'Democratic Republic of the Congo': 'Congo, Dem. Rep.',\n",
    "              'Republic of the Congo': 'Congo, Rep.', 'Egypt': 'Egypt, Arab Rep.', 'Hong Kong (China)': 'Hong Kong SAR, China',\n",
    "              'Islamic Republic of Iran': 'Iran, Islamic Rep.', \"Democratic People's Republic of Korea\": 'Korea, Dem. Rep.',\n",
    "              'Korea': 'Korea, Rep.', 'Kyrgyzstan': 'Kyrgyz Republic', 'Republic of North Macedonia': 'North Macedonia',\n",
    "              'Republic of Moldova':'Moldova', 'Chinese Taipei':'Taiwan, China',\n",
    "              'Venezuela': 'Venezuela, RB', 'Plurinational State of Bolivia':'Bolivia',\n",
    "              'United Republic of Tanzania':'Tanzania',\n",
    "              'Bolivarian Republic of Venezuela': 'Venezuela, RB', 'Viet Nam': 'Vietnam', 'Yemen': 'Yemen, Rep.'}\n",
    "                   \n",
    "data['Country'] = data['Country'].replace(to_replace=map_iea_wb)\n",
    "\n",
    "data.to_csv(path_ghg+'/national/IEA/detailed_figures/agg_product/iea_aggprod_WBnames.csv',index=None)\n",
    "\n",
    "#remove file 'IEA_aggprod.csv' wich is no longer needed\n",
    "os.remove(path_ghg+'/national/IEA/detailed_figures/agg_product/iea_aggprod.csv')"
   ]
  },
  {
   "cell_type": "markdown",
   "metadata": {},
   "source": [
    "### I.A.3 Fugitive emissions (CO2)"
   ]
  },
  {
   "cell_type": "code",
   "execution_count": null,
   "metadata": {},
   "outputs": [],
   "source": []
  },
  {
   "cell_type": "markdown",
   "metadata": {},
   "source": [
    "### I.A.4 Industrial Processes and Product Use emissions (CO2)"
   ]
  },
  {
   "cell_type": "code",
   "execution_count": 8,
   "metadata": {},
   "outputs": [],
   "source": [
    "ippu_nat = pd.read_excel(path_ghg+\"/national/EDGAR/v60_CO2_excl_short-cycle_org_C_1970_2018.xls\",\n",
    "                          sheet_name=\"v6.0_EM_CO2_fossil_IPCC2006\", skiprows=9)\n",
    "\n",
    "ippu_nat.drop(['IPCC_annex', 'C_group_IM24_sh', 'Country_code_A3', 'ipcc_code_2006_for_standard_report_name', 'fossil_bio'], axis=1, inplace=True)\n",
    "\n",
    "ippu_nat = ippu_nat.loc[~ippu_nat.Name.isin([\"Int. Shipping\", \"Int. Aviation\"]), :]\n",
    "ippu_nat = ippu_nat.melt(id_vars=[\"Name\", \"ipcc_code_2006_for_standard_report\"])\n",
    "\n",
    "ippu_nat.rename(columns={\"Name\":\"jurisdiction\", \"ipcc_code_2006_for_standard_report\":\"ipcc_code\", \"variable\":\"year\", \"value\":\"CO2_emissions\"}, \n",
    "                 inplace=True)\n",
    "ippu_nat[\"ipcc_code\"] = ippu_nat[\"ipcc_code\"].apply(lambda x: x.replace('.', '').upper())\n",
    "ippu_nat[\"year\"] = ippu_nat[\"year\"].apply(lambda x: x.replace('Y_', '').upper())\n",
    "ippu_nat[\"ipcc_code\"] = ippu_nat[\"ipcc_code\"].apply(lambda x: x.replace('_NORES', '').upper())\n",
    "ippu_nat[\"year\"] = ippu_nat[\"year\"].astype(int)\n",
    "\n",
    "ippu_nat[\"CO2_emissions\"] = ippu_nat[\"CO2_emissions\"]/1000\n",
    "\n",
    "# select only IPCC 2 Industrial Processes and Product Use categories\n",
    "ippu_nat = ippu_nat.loc[ippu_nat.ipcc_code.str.match(\"2\"), :]\n",
    "\n",
    "\n",
    "# need to change names of countries to match names in inventory dataframe\n",
    "\n",
    "map_edgar_wb = {'Bahamas':'Bahamas, The', 'Cape Verde':'Cabo Verde', 'Congo_the Democratic Republic of the':'Congo, Dem. Rep.',\n",
    "                'Congo':'Congo, Rep.', \"Egypt\":'Egypt, Arab Rep.', 'Micronesia, Federated States of':'Federated States of Micronesia',\n",
    "                'Gambia':'Gambia, The', 'Hong Kong':'Hong Kong SAR, China', 'Iran, Islamic Republic of':'Iran, Islamic Rep.',\n",
    "                \"Korea, Democratic People's Republic of\":'Korea, Dem. Rep.', 'Korea, Republic of':'Korea, Rep.', 'Kyrgyzstan':'Kyrgyz Republic',\n",
    "                \"Lao People's Democratic Republic\":'Lao PDR', 'Libyan Arab Jamahiriya':'Libya', 'Macao':'Macao SAR, China', \n",
    "                'Moldova, Republic of':'Moldova', 'Macedonia, the former Yugoslav Republic of':'North Macedonia', 'Slovakia':'Slovak Republic', \n",
    "                'Saint Kitts and Nevis':'St. Kitts and Nevis', 'Saint Lucia':'St. Lucia', \n",
    "                'Saint Vincent and the Grenadines':'St. Vincent and the Grenadines', 'Taiwan_Province of China':'Taiwan, China',\n",
    "                'Tanzania_United Republic of':'Tanzania', 'Venezuela':'Venezuela, RB', 'Viet Nam':'Vietnam', 'Yemen':'Yemen, Rep.'} #'Serbia and Montenegro':'Serbia'\n",
    "\n",
    "ippu_nat[\"jurisdiction\"] = ippu_nat[\"jurisdiction\"].replace(to_replace=map_edgar_wb)\n"
   ]
  },
  {
   "cell_type": "markdown",
   "metadata": {},
   "source": [
    "### I.B National GHG Inventory"
   ]
  },
  {
   "cell_type": "code",
   "execution_count": 9,
   "metadata": {},
   "outputs": [],
   "source": [
    "# DATA FORMATTING (common inventory reporting format)\n",
    "\n",
    "# 1A Fuel Combustion Activities\n",
    "combustion_nat = pd.read_csv(path_ghg+\"/national/IEA/iea_energy_combustion_emissions/detailed_figures/agg_product/iea_aggprod_WBnames.csv\",\n",
    "                  encoding = \"utf-8\") #specify encoding\n",
    "combustion_nat.rename(columns={\"Country\":\"jurisdiction\", \"Year\":\"year\", \"Flow\":\"iea_code\"}, inplace=True)\n",
    "combustion_nat.drop(\"Sector\", axis=1, inplace=True)\n",
    "\n",
    "combustion_nat = combustion_nat.merge(ipcc_iea_map, on=[\"iea_code\"], how=\"left\")\n",
    "combustion_nat[\"CO2_emissions\"] = combustion_nat[\"CO2_emissions\"]/1000\n",
    "\n",
    "# 2 Industrial Processes and Product Use\n",
    "ippu_nat = ippu_nat[[\"jurisdiction\", \"year\", \"ipcc_code\", \"CO2_emissions\"]]\n",
    "ippu_nat[\"year\"] = ippu_nat[\"year\"].astype(int)\n",
    "ippu_nat[\"iea_code\"] = \"NA\"\n",
    "ippu_nat[\"Product\"] = \"NA\"\n",
    "\n",
    "\n",
    "# COMBINED INVENTORY\n",
    "\n",
    "inventory_nat = wcpd_all.loc[wcpd_all.jurisdiction.isin(ctry_names), [\"jurisdiction\", \"year\", \"ipcc_code\", \"iea_code\", \"Product\"]]\n",
    "inventory_nat[[\"iea_code\", \"Product\"]] = inventory_nat[[\"iea_code\", \"Product\"]].fillna(\"NA\")\n",
    "\n",
    "combined_nat = pd.concat([combustion_nat, ippu_nat])\n",
    "\n",
    "inventory_nat = inventory_nat.merge(combined_nat, on=[\"jurisdiction\", \"year\", \"ipcc_code\", \"iea_code\", \"Product\"], how=\"left\")"
   ]
  },
  {
   "cell_type": "markdown",
   "metadata": {},
   "source": [
    "### I.C Emissions share (in total world and jurisdiction, GHG and CO2 emissions)"
   ]
  },
  {
   "cell_type": "code",
   "execution_count": 10,
   "metadata": {},
   "outputs": [],
   "source": [
    "inventory_nat_share = ecp_inv_share.emissions_share(inventory_nat, national_total, world_total)\n",
    "inventory_nat = pd.merge(inventory_nat, inventory_nat_share, on=[\"jurisdiction\", \"year\", \"ipcc_code\", \"iea_code\", \"Product\"], how=\"left\")\n",
    "\n",
    "# Shares of world sector emissions (share of total CO2)\n",
    "sectors_wld_total = inventory_nat[[\"jurisdiction\", \"year\", \"ipcc_code\", \"iea_code\", \"Product\", \"CO2_emissions\"]].groupby([\"ipcc_code\", \"year\"]).sum()\n",
    "sectors_wld_total.reset_index(inplace=True)\n",
    "\n",
    "inventory_sect_natjur = ecp_inv_share.emissions_share_sectors(inventory_nat, sectors_wld_total, \"national\")"
   ]
  },
  {
   "cell_type": "code",
   "execution_count": 73,
   "metadata": {},
   "outputs": [],
   "source": [
    "inventory_nat.to_csv(\"/Users/gd/OneDrive - rff/Documents/Research/projects/ecp/ecp_dataset/source_data/processed/inventory/inventory_nat.csv\", index=None)"
   ]
  },
  {
   "cell_type": "code",
   "execution_count": 14,
   "metadata": {},
   "outputs": [
    {
     "ename": "NameError",
     "evalue": "name 'ctry_list' is not defined",
     "output_type": "error",
     "traceback": [
      "\u001b[0;31m---------------------------------------------------------------------------\u001b[0m",
      "\u001b[0;31mNameError\u001b[0m                                 Traceback (most recent call last)",
      "\u001b[0;32m<ipython-input-14-83d4901a8eb5>\u001b[0m in \u001b[0;36m<module>\u001b[0;34m\u001b[0m\n\u001b[0;32m----> 1\u001b[0;31m \u001b[0;32mfor\u001b[0m \u001b[0mctry\u001b[0m \u001b[0;32min\u001b[0m \u001b[0mctry_list\u001b[0m\u001b[0;34m:\u001b[0m\u001b[0;34m\u001b[0m\u001b[0;34m\u001b[0m\u001b[0m\n\u001b[0m\u001b[1;32m      2\u001b[0m     \u001b[0minventory_nat\u001b[0m\u001b[0;34m.\u001b[0m\u001b[0mloc\u001b[0m\u001b[0;34m[\u001b[0m\u001b[0minventory_nat\u001b[0m\u001b[0;34m.\u001b[0m\u001b[0mjurisdiction\u001b[0m\u001b[0;34m==\u001b[0m\u001b[0mctry\u001b[0m\u001b[0;34m,\u001b[0m \u001b[0;34m:\u001b[0m\u001b[0;34m]\u001b[0m\u001b[0;34m.\u001b[0m\u001b[0mto_csv\u001b[0m\u001b[0;34m(\u001b[0m\u001b[0;34m\"/Users/gd/OneDrive - rff/Documents/Research/projects/ecp/ecp_dataset/source_data/processed/inventory/national/inventory_\"\u001b[0m\u001b[0;34m+\u001b[0m\u001b[0mcountries_dic\u001b[0m\u001b[0;34m[\u001b[0m\u001b[0mctry\u001b[0m\u001b[0;34m]\u001b[0m\u001b[0;34m+\u001b[0m\u001b[0;34m\".csv\"\u001b[0m\u001b[0;34m,\u001b[0m \u001b[0mindex\u001b[0m\u001b[0;34m=\u001b[0m\u001b[0;32mNone\u001b[0m\u001b[0;34m)\u001b[0m\u001b[0;34m\u001b[0m\u001b[0;34m\u001b[0m\u001b[0m\n",
      "\u001b[0;31mNameError\u001b[0m: name 'ctry_list' is not defined"
     ]
    }
   ],
   "source": [
    "for ctry in ctry_list:\n",
    "    inventory_nat.loc[inventory_nat.jurisdiction==ctry, :].to_csv(\"/Users/gd/OneDrive - rff/Documents/Research/projects/ecp/ecp_dataset/source_data/processed/inventory/national/inventory_\"+countries_dic[ctry]+\".csv\", index=None)\n"
   ]
  },
  {
   "cell_type": "markdown",
   "metadata": {},
   "source": [
    "## II. Subnational jurisdictions\n",
    "### II.A Data processing\n",
    "\n",
    "#### United States"
   ]
  },
  {
   "cell_type": "code",
   "execution_count": 11,
   "metadata": {},
   "outputs": [],
   "source": [
    "us = pd.DataFrame()\n",
    "\n",
    "os.chdir(path_ghg+'/subnational/United_States/Rhodium/')\n",
    "file_list = glob.glob('*.csv')\n",
    "\n",
    "for file in file_list:\n",
    "    temp = pd.read_csv(path_ghg+'/subnational/United_States/Rhodium/'+file, decimal=',')\n",
    "    #extract US state name from file name\n",
    "    state_name = file[len(\"DetailedGHGinventory_\"):-4]\n",
    "    #add state name as key column\n",
    "    temp.loc[:, \"jurisdiction\"] = state_name\n",
    "    #concat\n",
    "    us = pd.concat([us, temp])\n",
    "\n",
    "# excluding LULUCF emissions - excluded from emissions total calculations to be consistent with chosen total\n",
    "us = us.loc[~us.Subsector.str.match(\"LULUCF\"), :]\n",
    "us = us.drop([\"Ranking\"], axis=1)\n",
    "us.loc[:, \"jurisdiction\"] = us.loc[:, \"jurisdiction\"].apply(lambda x: x.replace('_', ' ').title())\n",
    "\n",
    "us_tot_ghg = us.groupby([\"jurisdiction\", \"Year\"]).sum()\n",
    "us_tot_ghg = us_tot_ghg.reset_index()\n",
    "us_tot_ghg.columns = [\"jurisdiction\", \"Year\", \"Total_GHG_Emissions_Excluding_LUCF_MtCO2e\"]\n",
    "\n",
    "us = us.loc[us.Gas.isin(['CO2 (combustion)', 'CO2 (non-combustion)'])]\n",
    "us_tot_co2 = us.groupby([\"jurisdiction\", \"Year\"]).sum()\n",
    "us_tot_co2 = us_tot_co2.reset_index()\n",
    "us_tot_co2.columns = [\"jurisdiction\", \"Year\", \"Total_CO2_Emissions_Excluding_LUCF_MtCO2e\"]\n",
    "\n",
    "us_tot = us_tot_ghg.merge(us_tot_co2, on=[\"jurisdiction\", \"Year\"])"
   ]
  },
  {
   "cell_type": "code",
   "execution_count": 12,
   "metadata": {},
   "outputs": [],
   "source": [
    "#add ipcc_code\n",
    "\n",
    "sector_names_map_us = {'Wastewater Treatment':'4D',\n",
    "       'Rice Cultivation':'3C7', 'Manure Management':'3A2', 'Landfills':'4A',\n",
    "       'Incineration of Waste':'4C1', 'Field Burning of Agricultural Residues':'3C1',\n",
    "       'Enteric Fermentation':'3A1', 'Composting':'4B', 'Ferroalloy Production':'2C2',\n",
    "#       'Iron and Steel Production & Metallurgical Coke Production':'1A2A', TEMPORARY FIX\n",
    "       'Petrochemical Production':'2B8',\n",
    "       'Stationary Combustion':'1A5A', 'Mobile Combustion':'1A5B',\n",
    "       'Carbide Production and Consumption':'2B5',\n",
    "       'Abandoned Underground Coal Mines':'1B1A13', 'Industry - All combustion':'1A2A',# CODE ATTRIBUTION IS TEMPORARY FIX\n",
    "       'Transport - Other':'1A3E', \n",
    "       'Transport - LDVs':'1A3B', 'Transport - Freight (trucks)':'1A3B',\n",
    "       'Transport - Air':'1A3A', 'Transport - Rail':'1A3C', 'Commercial':'1A4A',\n",
    "       'Power - All Fuels':'1A1A1', 'Residential':'1A4B', 'Liming':'3C2', 'Urea Fertilization':'3C3',\n",
    "       'Aluminum Production':'2C3', 'Ammonia Production':'2B1',\n",
    "       'Glass Production':'2A3',\n",
    "       'Lead Production':'2C5', 'Lime Production':'2A2',\n",
    "       'Magnesium Production and Processing':'2C4', 'Non-Energy Use of Fuels':'2D',\n",
    "       'Other Process Uses of Carbonates':'2A4',\n",
    "       'Soda Ash Production':'2B7', 'Titanium Dioxide Production':'2B6',\n",
    "       'Zinc Production':'2C6', 'Cement Production':'2A1', \n",
    "       'Substitution of Ozone Depleting Substances':'2F', \n",
    "       'Electronics Industry':'2E', \n",
    "       'Adipic Acid Production':'2B3', 'N2O from Product Uses':'2G3',\n",
    "       'Nitric Acid Production':'2B2', 'Agricultural Soil Management':'3C4',\n",
    "       'Coal Mining':'1B1A', 'Caprolactam, Glyoxal, and Glyoxylic Acid Production':'2B4'}\n",
    "\n",
    "#'Abandoned Oil and Gas Wells', 'MVAC', 'Petroleum Systems', 'Electrical Transmission and Distribution',\n",
    "# 'LULUCF Carbon Stock Change', 'LULUCF N2O Emissions', 'LULUCF CH4 Emissions', 'Natural Gas Systems',\n",
    "#'Urea Consumption for Non-Agricultural Purposes':'', 'HCFC-22 Production', 'Phosphoric Acid Production',\n",
    "# 'Transport - Natural gas pipeline', 'Carbon Dioxide Consumption',\n",
    "\n",
    "us.loc[:, \"ipcc_code\"] = us.loc[:, \"Subsector\"]\n",
    "us.loc[:, \"ipcc_code\"] = us.loc[:, \"ipcc_code\"].replace(to_replace=sector_names_map_us)\n",
    "\n",
    "excl_sectors = ['Transport - Natural gas pipeline', 'Carbon Dioxide Consumption', 'Abandoned Oil and Gas Wells', 'Phosphoric Acid Production',\n",
    "                'Natural Gas Systems', 'Petroleum Systems', 'Urea Consumption for Non-Agricultural Purposes']\n",
    "\n",
    "us = us.loc[~us.ipcc_code.isin(excl_sectors), :]\n",
    "\n",
    "us = us.drop([\"Gas\", \"Subsector\", \"Sector\"], axis=1)\n",
    "us = us.rename(columns={\"Emission (mmt CO2e)\":\"CO2_emissions\", \"Year\":\"year\"})\n",
    "us = us[[\"jurisdiction\", \"year\", \"ipcc_code\", \"CO2_emissions\"]]\n",
    "\n",
    "us = us.loc[us.year<=2020, :]\n",
    "us = us.sort_values(by=[\"jurisdiction\", \"year\", \"ipcc_code\"])\n",
    "\n",
    "#needed to aggregate over IPCC sectors as I have attributed same ipcc_code to multiple Rhodium categories\n",
    "us = us.groupby(by=[\"jurisdiction\", \"year\", \"ipcc_code\"]).sum()\n",
    "us = us.reset_index()\n",
    "\n",
    "us[\"supra_jur\"] = \"United States\"\n",
    "\n",
    "# replace name of Georgia state to avoid clash with Georgia country\n",
    "us[\"jurisdiction\"].replace(to_replace={\"Georgia\":\"Georgia_US\"}, inplace=True)"
   ]
  },
  {
   "cell_type": "markdown",
   "metadata": {},
   "source": [
    "#### Canada"
   ]
  },
  {
   "cell_type": "code",
   "execution_count": 13,
   "metadata": {},
   "outputs": [],
   "source": [
    "\n",
    "can = pd.read_csv(path_ghg+'/subnational/Canada/harmonized_data/ECCC/GHG_IPCC_Can_Prov_Terr.csv',\n",
    "                  low_memory=False)\n",
    "can_map = pd.read_csv(path_ghg+'/subnational/Canada/harmonized_data/ECCC/ipcc_code_name_map.csv')\n",
    "\n",
    "map_ipcc_can = dict(zip(list(can_map['category'].values), list(can_map['IPCC_CODE'].values)))\n",
    "\n",
    "can = can.loc[can.Region != \"Canada\", :]\n",
    "can = can[[\"Region\", \"Year\", \"Category\", \"CO2\", \"CO2eq\"]]\n",
    "can.rename(columns={\"Region\":\"jurisdiction\", \"Category\":\"ipcc_code\", \"CO2eq\":\"tot_ghg\"}, inplace=True)\n",
    "\n",
    "for col in [\"CO2\", \"tot_ghg\"]:\n",
    "    can[col].replace(to_replace={\"x\":None}, inplace=True)\n",
    "    can[col] = can[col].astype(float)\n",
    "    can[col] = can[col].divide(1000, fill_value=None)\n",
    "\n",
    "can_tot = can.loc[can.ipcc_code.isin([\"TOTAL\"]), [\"jurisdiction\", \"Year\", \"CO2\", \"tot_ghg\"]]\n",
    "can_lulucf = can.loc[can.ipcc_code.isin([\"LAND USE, LAND-USE CHANGE AND FORESTRY\"]), [\"jurisdiction\", \"Year\", \"CO2\", \"tot_ghg\"]]\n",
    "can_tot = can_tot.merge(can_lulucf, on=[\"jurisdiction\", \"Year\"])\n",
    "\n",
    "#Calculating totals excluding LULUCF\n",
    "can_tot[\"CO2_x\"] = can_tot.CO2_x - can_tot.CO2_y\n",
    "can_tot[\"tot_ghg_x\"] = can_tot.tot_ghg_x - can_tot.tot_ghg_y\n",
    "can_tot.drop([\"CO2_y\", \"tot_ghg_y\"], axis=1, inplace=True)\n",
    "can_tot.rename(columns={\"CO2_x\":\"Total_GHG_Emissions_Excluding_LUCF_MtCO2e\", \"tot_ghg_x\":\"Total_CO2_Emissions_Excluding_LUCF_MtCO2e\"}, inplace=True)\n",
    "\n",
    "can[\"ipcc_code\"].replace(to_replace=map_ipcc_can, inplace=True)\n",
    "can = can[[\"jurisdiction\", \"Year\", \"ipcc_code\", \"CO2\"]]\n",
    "can.columns = [\"jurisdiction\", \"year\", \"ipcc_code\", \"CO2_emissions\"]\n",
    "can = can.loc[~can.ipcc_code.isna(), :] #keep all sectors in 'can' dataframe but assign IEA and IPCC codes so that they can be sorted\n",
    "\n",
    "can[\"supra_jur\"] = \"Canada\""
   ]
  },
  {
   "cell_type": "markdown",
   "metadata": {},
   "source": [
    "#### China"
   ]
  },
  {
   "cell_type": "code",
   "execution_count": 14,
   "metadata": {},
   "outputs": [],
   "source": [
    "chn_prov_names = pd.read_excel(path_ghg+\"/subnational/China/CEADS/CEADS_provincial_emissions/Emission_inventories_for_30_provinces_1997.xlsx\", \n",
    "                           sheet_name=\"Sum\")\n",
    "chn_prov_names = list(chn_prov_names[\"Unnamed: 0\"])[:-2]\n",
    "\n",
    "file_list = os.listdir(path_ghg+\"/subnational/China/CEADS/CEADS_provincial_emissions/\")\n",
    "#file_list.remove('.DS_Store')\n",
    "\n",
    "china_comb = pd.DataFrame()\n",
    "china_proc = pd.DataFrame()\n",
    "\n",
    "for file in file_list:\n",
    "    for prov in chn_prov_names:\n",
    "        temp = pd.read_excel(path_ghg+\"/subnational/China/CEADS/CEADS_provincial_emissions/\"+file, \n",
    "                           sheet_name=prov, skiprows=[1,2])\n",
    "\n",
    "        temp.rename(columns={\"Unnamed: 0\":\"ipcc_code\"}, inplace=True)\n",
    "        temp[\"year\"] = file[-9:-5]\n",
    "        temp[\"jurisdiction\"] = prov\n",
    "        \n",
    "        temp_comb = temp[[\"jurisdiction\", \"year\", \"ipcc_code\", \"Process\", \"Total\"]].copy()\n",
    "        temp_proc = temp[[\"jurisdiction\", \"year\", \"ipcc_code\", \"Process\"]].copy()\n",
    "        \n",
    "        temp_comb.loc[:, \"CO2_emissions\"] = temp.loc[:, \"Total\"]-temp.loc[:, \"Process\"]\n",
    "        temp_comb.drop([\"Process\", \"Total\"], axis=1, inplace=True)\n",
    "        \n",
    "        if china_comb.empty == True:\n",
    "            china_comb = temp_comb\n",
    "            china_proc = temp_proc\n",
    "        else:\n",
    "            china_comb = pd.concat([china_comb, temp_comb])\n",
    "            china_proc = pd.concat([china_proc, temp_proc])\n",
    "\n"
   ]
  },
  {
   "cell_type": "code",
   "execution_count": 15,
   "metadata": {},
   "outputs": [],
   "source": [
    "# From the CEADS data, we can acutally recover the emissions associated with each broad fuel category (like for national jurisdictions)\n",
    "\n",
    "# Replace province names by those in dataset\n",
    "province_names_map = {'Beijing': 'Beijing Municipality', 'Tianjin': 'Tianjin Municipality', 'Hebei':'Hebei Province', \n",
    "                      'Shanxi':'Shanxi Province', 'InnerMongolia':'Inner Mongolia Autonomous Region',\n",
    "                      'Liaoning':'Liaoning Province', 'Jilin':'Jilin Province', 'Heilongjiang':'Heilongjiang Province', \n",
    "                      'Shanghai':'Shanghai Municipality', 'Jiangsu':'Jiangsu Province',\n",
    "                      'Zhejiang':'Zhejiang Province', 'Anhui':'Anhui Province', 'Fujian':'Fujian Province', 'Jiangxi':'Jiangxi Province', \n",
    "                      'Shandong':'Shandong Province', 'Henan':'Henan Province', 'Hubei':'Hubei Province', 'Hunan':'Hunan Province', \n",
    "                      'Guangdong':'Guangdong Province', 'Guangxi':\"Guangxi Zhuang Autonomous Region\", 'Hainan':'Hainan Province', 'Chongqing':'Chongqing Municipality',\n",
    "                      'Sichuan':'Sichuan Province', 'Guizhou':'Guizhou Province', 'Yunnan':'Yunnan Province', 'Shaanxi':'Shaanxi Province', \n",
    "                      'Gansu':'Gansu Province', 'Qinghai':'Qinghai Province', 'Ningxia':'Ningxia Hui Autonomous Region', \n",
    "                      'Xinjiang':'Xinjiang Uyghur Autonomous Region'}\n",
    "\n",
    "# Associate IPCC sector names with sector codes\n",
    "sector_names_map_china = {'Farming, Forestry, Animal Husbandry, Fishery and Water Conservancy      ':'1A4C',\n",
    "                          'Coal Mining and Dressing                                 ':'1A1C',\n",
    "                          'Petroleum and Natural Gas Extraction                     ':'1B2',\n",
    "                          'Ferrous Metals Mining and Dressing                       ':'1A2I',\n",
    "                          'Nonferrous Metals Mining and Dressing                    ':'1A2I',\n",
    "                          'Nonmetal Minerals Mining and Dressing                    ':'1A2I',\n",
    "                          'Other Minerals Mining and Dressing                       ':'1A2I',\n",
    "                          'Logging and Transport of Wood and Bamboo                 ':'1A2J',\n",
    "                          'Food Processing                                          ':'1A2E',\n",
    "                          'Food Production                                          ':'1A2E',\n",
    "                          'Beverage Production':'1A2E',\n",
    "                          'Tobacco Processing                                       ':'1A2E',\n",
    "                          'Textile Industry                                         ':'1A2L',\n",
    "                          'Garments and Other Fiber Products                        ':'1A2L',\n",
    "                          'Leather, Furs, Down and Related Products                 ':'1A2L',\n",
    "                          'Timber Processing, Bamboo, Cane, Palm Fiber & Straw Products':'1A2J',\n",
    "                          'Furniture Manufacturing                                  ':'1A2J',\n",
    "                          'Papermaking and Paper Products                           ':'1A2D',\n",
    "                          'Printing and Record Medium Reproduction                  ':'1A2D',\n",
    "                          'Cultural, Educational and Sports Articles                ':'1A2D',\n",
    "                          'Petroleum Processing and Coking                          ':'1A1B',\n",
    "                          'Raw Chemical Materials and Chemical Products             ':'1A2C',\n",
    "                          'Medical and Pharmaceutical Products                      ':'1A2C',\n",
    "                          'Chemical Fiber                                           ':'1A2C',\n",
    "                          'Rubber Products                                          ':'1A2C',\n",
    "                          'Plastic Products                                         ':'1A2C',\n",
    "                          'Nonmetal Mineral Products                                ':'1A2F',\n",
    "                          'Smelting and Pressing of Ferrous Metals                  ':'1A2A',\n",
    "                          'Smelting and Pressing of Nonferrous Metals               ':'1A2B',\n",
    "                          'Metal Products                                           ':'1A2A',\n",
    "                          'Ordinary Machinery                                       ':'1A2H',\n",
    "                          'Equipment for Special Purposes                           ':'1A2H',\n",
    "                          'Transportation Equipment                                 ':'1A2G',\n",
    "                          'Electric Equipment and Machinery                         ':'1A2H',\n",
    "                          'Electronic and Telecommunications Equipment              ':'1A2H',\n",
    "                          'Instruments, Meters, Cultural and Office Machinery         ':'1A2H',\n",
    "                          'Other Manufacturing Industry                             ':'1A2M',\n",
    "                          'Scrap and waste':'1A2M',\n",
    "                          'Production and Supply of Electric Power, Steam and Hot Water   ':'1A1A',\n",
    "                          'Production and Supply of Gas                             ':'1B2B',\n",
    "                          'Production and Supply of Tap Water                       ':'1A4A', # to be verified\n",
    "                          'Construction                                             ':'1A2K',\n",
    "                          'Transportation, Storage, Post and Telecommunication Services    ':'1A3',\n",
    "                          'Wholesale, Retail Trade and Catering Services            ':'1A4A',\n",
    "                          'Others                                                   ':'1A5',\n",
    "                          'Urban':'1A4B', \n",
    "                          'Rural':'1A4B'}\n",
    "\n",
    "china_comb.replace(to_replace=province_names_map, inplace=True)\n",
    "china_comb.replace(to_replace=sector_names_map_china, inplace=True)\n",
    "\n",
    "china_proc.replace(to_replace=province_names_map, inplace=True)\n",
    "china_proc = china_proc.loc[china_proc.ipcc_code=='Nonmetal Mineral Products                                ', :]\n",
    "china_proc.replace(to_replace={'Nonmetal Mineral Products                                ':\"2A\"}, inplace=True)\n",
    "china_proc.rename(columns={\"Process\":\"CO2_emissions\"}, inplace=True)\n",
    "\n",
    "# concatenate combustion and process emissions dataframes\n",
    "\n",
    "china = pd.concat([china_comb, china_proc])\n",
    "china = china.loc[china.ipcc_code!=\"Total Consumption\"] # remove total category from dataframe\n",
    "\n",
    "# sum at the (aggregate) sector level - since some sectors have been assigned the same IPCC code\n",
    "\n",
    "china = china.groupby([\"jurisdiction\", \"year\", \"ipcc_code\"]).sum()\n",
    "china = china.reset_index()\n",
    "china[\"year\"] = china.year.astype(int)\n",
    "\n",
    "china[\"supra_jur\"] = \"China\"\n",
    "\n",
    "# retrieve total province emissions\n",
    "\n",
    "china_tot = china.groupby([\"jurisdiction\", \"year\"]).sum()\n",
    "china_tot = china_tot.reset_index()\n",
    "\n",
    "china_tot[\"Total_GHG_Emissions_Excluding_LUCF_MtCO2e\"] = np.nan\n",
    "china_tot.rename(columns={\"CO2_emissions\":\"Total_CO2_Emissions_Excluding_LUCF_MtCO2e\"}, inplace=True)"
   ]
  },
  {
   "cell_type": "markdown",
   "metadata": {},
   "source": [
    "### II.B Subnational inventory"
   ]
  },
  {
   "cell_type": "code",
   "execution_count": 16,
   "metadata": {},
   "outputs": [],
   "source": [
    "# Inventory structure\n",
    "inventory_subnat = wcpd_all.loc[wcpd_all.jurisdiction.isin(subnat_names), [\"jurisdiction\", \"year\", \"ipcc_code\", \"iea_code\"]]\n",
    "\n",
    "us_states = ['Alabama', 'Alaska', 'Arizona', 'Arkansas', 'California', 'Colorado', 'Connecticut', 'Dc', 'Delaware', 'Florida', 'Georgia_US',\n",
    "            'Hawaii', 'Idaho', 'Illinois', 'Indiana', 'Iowa', 'Kansas', 'Kentucky', 'Louisiana', 'Maine', 'Maryland', 'Massachusetts',\n",
    "            'Michigan', 'Minnesota', 'Mississippi', 'Missouri', 'Montana', 'Nebraska', 'Nevada', 'New Hampshire', 'New Jersey', 'New Mexico',\n",
    "            'New York', 'North Carolina', 'North Dakota', 'Ohio', 'Oklahoma', 'Oregon', 'Pennsylvania', 'Rhode Island', 'South Carolina',\n",
    "            'South Dakota', 'Tennessee', 'Texas', 'Utah', 'Vermont', 'Virginia', 'Washington', 'West Virginia', 'Wisconsin', 'Wyoming']\n",
    "\n",
    "can_prov = ['Alberta', 'British Columbia', 'Manitoba', 'New Brunswick', 'Newfoundland and Labrador', 'Northwest Territories',\n",
    "            'Northwest Territories and Nunavut', 'Nova Scotia', 'Nunavut', 'Ontario', 'Prince Edward Island', 'Quebec', 'Saskatchewan', 'Yukon']\n",
    "\n",
    "chn_prov = ['Anhui Province', 'Beijing Municipality', 'Chongqing Municipality', 'Fujian Province', 'Gansu Province', 'Guangdong Province',\n",
    "            'Guangxi Zhuang Autonomous Region', 'Guizhou Province', 'Hainan Province', 'Hebei Province', 'Heilongjiang Province', 'Henan Province',\n",
    "            'Hubei Province', 'Hunan Province', 'Inner Mongolia Autonomous Region', 'Jiangsu Province', 'Jiangxi Province', 'Jilin Province',\n",
    "            'Liaoning Province', 'Ningxia Hui Autonomous Region', 'Qinghai Province', 'Shaanxi Province', 'Shandong Province', 'Shanghai Municipality',\n",
    "            'Shanxi Province', 'Sichuan Province', 'Tianjin Municipality', 'Xinjiang Uyghur Autonomous Region', 'Yunnan Province', 'Zhejiang Province',\n",
    "            \"Hong Kong Special Administrative Region\", \"Tibet Autonomous Region\", \"Macau Special Administrative Region\"]\n",
    "\n",
    "jpn_pref = [\"Tokyo\", \"Saitama\", \"Kyoto\"]\n",
    "\n",
    "# we don't have fuel level information for subnational jurisdictions so we drop the Product column and delete duplicate/redundant rows \n",
    "inventory_subnat.drop_duplicates(subset=[\"jurisdiction\", \"year\", \"ipcc_code\", \"iea_code\"], inplace=True)\n",
    "inventory_subnat[[\"iea_code\"]] = inventory_subnat[[\"iea_code\"]].fillna(\"NA\")\n",
    "\n",
    "\n",
    "# COMBINED data\n",
    "combined_subnat = pd.concat([us, can, china])\n",
    "combined_subnat = combined_subnat.merge(ipcc_iea_map, on=[\"ipcc_code\"], how=\"left\")\n",
    "combined_subnat[[\"iea_code\"]] = combined_subnat[[\"iea_code\"]].fillna(\"NA\")\n",
    "\n",
    "inventory_subnat.loc[inventory_subnat.jurisdiction.isin(us_states), \"supra_jur\"] = \"United States\"\n",
    "inventory_subnat.loc[inventory_subnat.jurisdiction.isin(can_prov), \"supra_jur\"] = \"Canada\"\n",
    "inventory_subnat.loc[inventory_subnat.jurisdiction.isin(chn_prov), \"supra_jur\"] = \"China\"\n",
    "inventory_subnat.loc[inventory_subnat.jurisdiction.isin(jpn_pref), \"supra_jur\"] = \"Japan\"\n",
    "\n",
    "inventory_subnat = inventory_subnat.merge(combined_subnat, on=[\"supra_jur\", \"jurisdiction\", \"year\", \"ipcc_code\", \"iea_code\"], how=\"left\")\n",
    "inventory_subnat = inventory_subnat[['supra_jur', 'jurisdiction', 'year', 'ipcc_code', \"iea_code\", 'CO2_emissions']]"
   ]
  },
  {
   "cell_type": "markdown",
   "metadata": {},
   "source": [
    "### II.C Emissions share"
   ]
  },
  {
   "cell_type": "code",
   "execution_count": 17,
   "metadata": {},
   "outputs": [],
   "source": [
    "em_subnat_total = pd.concat([us_tot, can_tot, china_tot])\n",
    "\n",
    "inventory_subnat_share = ecp_inv_share.emissions_share(inventory_subnat, em_subnat_total, \n",
    "                                                       world_total, national_total, \"subnational\")\n",
    "inventory_subnat = inventory_subnat.merge(inventory_subnat_share, on=[\"supra_jur\", \"jurisdiction\", \"year\", \"ipcc_code\", \"iea_code\"], how=\"left\")\n",
    "\n",
    "inventory_sect_subnatjur = ecp_inv_share.emissions_share_sectors(inventory_subnat, sectors_wld_total, \"subnational\")\n",
    "    "
   ]
  },
  {
   "cell_type": "code",
   "execution_count": 72,
   "metadata": {},
   "outputs": [],
   "source": [
    "for jur in subnat_list:\n",
    "    inventory_subnat.loc[inventory_subnat.jurisdiction==jur, :].to_csv(\"/Users/gd/OneDrive - rff/Documents/Research/projects/ecp/ecp_dataset/source_data/processed/inventory/subnational/inventory_\"+subnat_dic[jur]+\".csv\", index=None)\n"
   ]
  },
  {
   "cell_type": "markdown",
   "metadata": {},
   "source": [
    "# Coverage \n",
    "## I. Disaggregated coverage dataframes\n",
    "\n",
    "** Note: National and subnational inventories do not have the same level of disaggregation **"
   ]
  },
  {
   "cell_type": "code",
   "execution_count": 18,
   "metadata": {},
   "outputs": [
    {
     "ename": "NameError",
     "evalue": "name 'overlap' is not defined",
     "output_type": "error",
     "traceback": [
      "\u001b[0;31m---------------------------------------------------------------------------\u001b[0m",
      "\u001b[0;31mNameError\u001b[0m                                 Traceback (most recent call last)",
      "Input \u001b[0;32mIn [18]\u001b[0m, in \u001b[0;36m<cell line: 3>\u001b[0;34m()\u001b[0m\n\u001b[1;32m      1\u001b[0m \u001b[38;5;66;03m# SHARE OF JURISDICTIONS TOTAL EMISSIONS\u001b[39;00m\n\u001b[0;32m----> 3\u001b[0m coverage_nat \u001b[38;5;241m=\u001b[39m ecp_coverage\u001b[38;5;241m.\u001b[39mcoverage(inventory_nat, \u001b[38;5;241m2018\u001b[39m, \u001b[38;5;241m2020\u001b[39m, wcpd_all, \u001b[43moverlap\u001b[49m,\n\u001b[1;32m      4\u001b[0m                                      \u001b[38;5;28;01mFalse\u001b[39;00m, \u001b[38;5;124m\"\u001b[39m\u001b[38;5;124mnational\u001b[39m\u001b[38;5;124m\"\u001b[39m)\n\u001b[1;32m      5\u001b[0m coverage_subnat \u001b[38;5;241m=\u001b[39m ecp_coverage\u001b[38;5;241m.\u001b[39mcoverage(inventory_subnat, \u001b[38;5;241m2018\u001b[39m, \u001b[38;5;241m2020\u001b[39m, wcpd_all, overlap,\n\u001b[1;32m      6\u001b[0m                                         \u001b[38;5;28;01mFalse\u001b[39;00m, \u001b[38;5;124m\"\u001b[39m\u001b[38;5;124msubnational\u001b[39m\u001b[38;5;124m\"\u001b[39m)\n\u001b[1;32m      8\u001b[0m coverage_all \u001b[38;5;241m=\u001b[39m pd\u001b[38;5;241m.\u001b[39mconcat([coverage_nat, coverage_subnat])\n",
      "\u001b[0;31mNameError\u001b[0m: name 'overlap' is not defined"
     ]
    }
   ],
   "source": [
    "# SHARE OF JURISDICTIONS TOTAL EMISSIONS\n",
    "\n",
    "coverage_nat = ecp_coverage.coverage(inventory_nat, 2018, 2020, wcpd_all, overlap,\n",
    "                                     False, \"national\")\n",
    "coverage_subnat = ecp_coverage.coverage(inventory_subnat, 2018, 2020, wcpd_all, overlap,\n",
    "                                        False, \"subnational\")\n",
    "\n",
    "coverage_all = pd.concat([coverage_nat, coverage_subnat])\n",
    "coverage_all = coverage_all.loc[coverage_all[\"jurisdiction\"]!=\"World\", :]\n",
    "\n",
    "# Coverage figures should be calculated only based on aggregation of the most disaggregated flows, not their higher-level aggregation. \n",
    "# Otherwise this might result in double counting. Hence aggregate sectors should be dropped from coverage dataframe.\n",
    "# It also currently excludes coverage of international aviation ('ABFLOW039') and marine ('ABFLOW040') bunkers \n",
    "# as they are currently excluded from national total emissions.\n",
    "# Drop combustion sectors that are aggregation of lower level sectors and concatenate all coverage dataframes into a single one*\n",
    "\n",
    "flow_excl = ['1A', '1A1A', '1A1C', '1A2', '1A3'] #'1A1C' is exluded here as ABFLOW011 emissions are attributed twice (to both 1A1B and 1A1C)\n",
    "coverage_all = coverage_all.loc[~coverage_all.ipcc_code.isin(flow_excl), :]\n",
    "\n",
    "# SHARE OF SECTORS' GLOBAL TOTAL EMISSIONS\n",
    "\n",
    "coverage_nat_sect = ecp_coverage.coverage(inventory_sect_natjur, 2018, 2020, wcpd_all, overlap,\n",
    "                             True, \"national\")\n",
    "coverage_subnat_sect = ecp_coverage.coverage(inventory_sect_subnatjur, 2018, 2020, wcpd_all, overlap,\n",
    "                                True, \"subnational\")"
   ]
  },
  {
   "cell_type": "markdown",
   "metadata": {},
   "source": [
    "## II. Aggregate coverage\n",
    "\n",
    "- \"The sum over all pricing mechanisms\" of [emissions_share x coverage_factor] minus the overlapping coverage\n",
    "\n",
    "We account for the fact that more than one tax scheme or ets scheme can apply to the same emissions. However, covered emissions should be counted only once when covered by one or more scheme. To calculate overlapping coverage at the sector-fuel level, we use the `overlap_` variable in `wcpd_all` dataframe created above.\n",
    "\n",
    "### II.1 jurisdictions"
   ]
  },
  {
   "cell_type": "code",
   "execution_count": 19,
   "metadata": {},
   "outputs": [
    {
     "name": "stderr",
     "output_type": "stream",
     "text": [
      "<ipython-input-19-24b24e21d4f8>:58: SettingWithCopyWarning: \n",
      "A value is trying to be set on a copy of a slice from a DataFrame.\n",
      "Try using .loc[row_indexer,col_indexer] = value instead\n",
      "\n",
      "See the caveats in the documentation: https://pandas.pydata.org/pandas-docs/stable/user_guide/indexing.html#returning-a-view-versus-a-copy\n",
      "  coverage_agg[key] = coverage_all[dic[key]].sum(axis=1) # - coverage_all[all_overlap_dic[key]]\n",
      "<ipython-input-19-24b24e21d4f8>:62: SettingWithCopyWarning: \n",
      "A value is trying to be set on a copy of a slice from a DataFrame.\n",
      "Try using .loc[row_indexer,col_indexer] = value instead\n",
      "\n",
      "See the caveats in the documentation: https://pandas.pydata.org/pandas-docs/stable/user_guide/indexing.html#returning-a-view-versus-a-copy\n",
      "  coverage_agg[key] = coverage_all[dic[key]].sum(axis=1) - coverage_all[all_overlap_dic[key]]\n"
     ]
    }
   ],
   "source": [
    "# Create dataframe to contain aggregate coverage\n",
    "coverage_agg = coverage_all[[\"jurisdiction\", \"year\", \"ipcc_code\", \"iea_code\", \"Product\"]]\n",
    "\n",
    "# TAXES\n",
    "\n",
    "cov_tax_columns_jurGHG = [x for x in coverage_all.columns if \"cov_tax\" in x and \"jurGHG\" in x]\n",
    "cov_tax_columns_jurCO2 = [x for x in coverage_all.columns if \"cov_tax\" in x and \"jurCO2\" in x]\n",
    "cov_tax_columns_wldGHG = [x for x in coverage_all.columns if \"cov_tax\" in x and \"wldGHG\" in x]\n",
    "cov_tax_columns_wldCO2 = [x for x in coverage_all.columns if \"cov_tax\" in x and \"wldCO2\" in x]\n",
    "cov_tax_columns_supraGHG = [x for x in coverage_all.columns if \"cov_tax\" in x and \"supraGHG\" in x]\n",
    "cov_tax_columns_supraCO2 = [x for x in coverage_all.columns if \"cov_tax\" in x and \"supraCO2\" in x]\n",
    "\n",
    "tax_columns = {\"cov_tax_CO2_jurGHG\":cov_tax_columns_jurGHG, \"cov_tax_CO2_jurCO2\":cov_tax_columns_jurCO2, \n",
    "               \"cov_tax_CO2_wldGHG\":cov_tax_columns_wldGHG, \"cov_tax_CO2_wldCO2\":cov_tax_columns_wldCO2, \n",
    "               \"cov_tax_CO2_supraGHG\":cov_tax_columns_supraGHG, \"cov_tax_CO2_supraCO2\":cov_tax_columns_supraCO2}\n",
    "\n",
    "# ETS\n",
    "\n",
    "cov_ets_columns_jurGHG = [x for x in coverage_all.columns if \"cov_ets\" in x and \"jurGHG\" in x]\n",
    "cov_ets_columns_jurCO2 = [x for x in coverage_all.columns if \"cov_ets\" in x and \"jurCO2\" in x]\n",
    "cov_ets_columns_wldGHG = [x for x in coverage_all.columns if \"cov_ets\" in x and \"wldGHG\" in x]\n",
    "cov_ets_columns_wldCO2 = [x for x in coverage_all.columns if \"cov_ets\" in x and \"wldCO2\" in x]\n",
    "cov_ets_columns_supraGHG = [x for x in coverage_all.columns if \"cov_ets\" in x and \"supraGHG\" in x]\n",
    "cov_ets_columns_supraCO2 = [x for x in coverage_all.columns if \"cov_ets\" in x and \"supraCO2\" in x]\n",
    "\n",
    "ets_columns = {\"cov_ets_CO2_jurGHG\":cov_ets_columns_jurGHG, \"cov_ets_CO2_jurCO2\":cov_ets_columns_jurCO2, \n",
    "               \"cov_ets_CO2_wldGHG\": cov_ets_columns_wldGHG, \"cov_ets_CO2_wldCO2\":cov_ets_columns_wldCO2, \n",
    "               \"cov_ets_CO2_supraGHG\":cov_ets_columns_supraGHG, \"cov_ets_CO2_supraCO2\":cov_ets_columns_supraCO2}\n",
    "\n",
    "# ALL INSTRUMENTS\n",
    "\n",
    "cov_all_columns_jurGHG = [x for x in coverage_all.columns if \"cov_\" in x and \"jurGHG\" in x and \"overlap\" not in x]\n",
    "cov_all_columns_jurCO2 = [x for x in coverage_all.columns if \"cov_\" in x and \"jurCO2\" in x and \"overlap\" not in x]\n",
    "cov_all_columns_wldGHG = [x for x in coverage_all.columns if \"cov_\" in x and \"wldGHG\" in x and \"overlap\" not in x]\n",
    "cov_all_columns_wldCO2 = [x for x in coverage_all.columns if \"cov_\" in x and \"wldCO2\" in x and \"overlap\" not in x]\n",
    "cov_all_columns_supraGHG = [x for x in coverage_all.columns if \"cov_\" in x and \"supraGHG\" in x and \"overlap\" not in x]\n",
    "cov_all_columns_supraCO2 = [x for x in coverage_all.columns if \"cov_\" in x and \"supraCO2\" in x and \"overlap\" not in x]\n",
    "\n",
    "all_columns = {\"cov_all_CO2_jurGHG\":cov_all_columns_jurGHG, \"cov_all_CO2_jurCO2\":cov_all_columns_jurCO2, \n",
    "               \"cov_all_CO2_wldGHG\":cov_all_columns_wldGHG, \"cov_all_CO2_wldCO2\":cov_all_columns_wldCO2, \n",
    "               \"cov_all_CO2_supraGHG\":cov_all_columns_supraGHG, \"cov_all_CO2_supraCO2\":cov_all_columns_supraCO2}\n",
    "\n",
    "\n",
    "all_overlap_dic = {'cov_all_CO2_jurGHG':'cov_overlap_CO2_jurGHG', 'cov_all_CO2_jurCO2':'cov_overlap_CO2_jurCO2', \n",
    "                   'cov_all_CO2_wldGHG':'cov_overlap_CO2_wldGHG', 'cov_all_CO2_wldCO2':'cov_overlap_CO2_wldCO2', \n",
    "                   'cov_all_CO2_supraGHG':'cov_overlap_CO2_supraGHG', 'cov_all_CO2_supraCO2':'cov_overlap_CO2_supraCO2'}\n",
    "\n",
    "# Calculation of coverage\n",
    "\n",
    "# An adjustment to the coverage function needs to be made. The function's output needs to include i) overlap across taxes, ii) overlap across ets, \n",
    "# iii) overlap across all instruments\n",
    "\n",
    "# A. Sum across all instruments (columns)\n",
    "\n",
    "for dic in [tax_columns, ets_columns]: # [all_columns]\n",
    "    for key in dic.keys():\n",
    "        # sum across all instrument columns and substract overlaping coverage\n",
    "        coverage_agg[key] = coverage_all[dic[key]].sum(axis=1) # - coverage_all[all_overlap_dic[key]]\n",
    "\n",
    "for dic in [all_columns]:\n",
    "    for key in dic.keys():\n",
    "        coverage_agg[key] = coverage_all[dic[key]].sum(axis=1) - coverage_all[all_overlap_dic[key]]\n",
    "\n",
    "# B. Sum across all emission categories (rows)\n",
    "coverage_agg = coverage_agg.groupby(['jurisdiction','year']).sum()\n",
    "coverage_agg.reset_index(inplace=True)\n"
   ]
  },
  {
   "cell_type": "code",
   "execution_count": 20,
   "metadata": {},
   "outputs": [],
   "source": [
    "# WORLD TOTAL COVERAGE \n",
    "\n",
    "cov_world_agg = coverage_agg[[\"jurisdiction\",\"year\", \"cov_tax_CO2_wldCO2\", \"cov_ets_CO2_wldCO2\", \n",
    "                                      \"cov_tax_CO2_wldGHG\", \"cov_ets_CO2_wldGHG\"]]\n",
    "\n",
    "cov_world_agg.reset_index(inplace=True)\n",
    "cov_world_agg = cov_world_agg.groupby(['year']).sum()\n",
    "\n",
    "cov_world_agg[\"cov_all_CO2_jurGHG\"] = cov_world_agg.cov_tax_CO2_wldGHG + cov_world_agg.cov_ets_CO2_wldGHG\n",
    "cov_world_agg[\"cov_all_CO2_jurCO2\"] = cov_world_agg.cov_tax_CO2_wldCO2 + cov_world_agg.cov_ets_CO2_wldCO2\n",
    "\n",
    "cov_world_agg[\"jurisdiction\"] = \"World\"\n",
    "\n",
    "cov_world_agg.drop(\"index\", axis=1, inplace=True)\n",
    "cov_world_agg.reset_index(inplace=True)\n",
    "\n",
    "coverage_agg = pd.concat([coverage_agg, cov_world_agg])"
   ]
  },
  {
   "cell_type": "code",
   "execution_count": 21,
   "metadata": {},
   "outputs": [],
   "source": [
    "# National-level coverage from subnational schemes\n",
    "\n",
    "subnat_lists = {\"United States\":us_states, \"Canada\":can_prov, \"China\":chn_prov}\n",
    "\n",
    "for subnat_list in subnat_lists.keys():\n",
    "    temp = coverage_agg.loc[coverage_agg.jurisdiction.isin(subnat_lists[subnat_list]), :]\n",
    "    temp = temp.groupby([\"year\"]).sum()\n",
    "    temp.reset_index(inplace=True)\n",
    "    temp[\"jurisdiction\"] = subnat_list\n",
    "\n",
    "    temp[[\"cov_tax_CO2_jurGHG\", \"cov_tax_CO2_jurCO2\", \"cov_ets_CO2_jurGHG\", \"cov_ets_CO2_jurCO2\",\n",
    "          \"cov_all_CO2_jurGHG\", \"cov_all_CO2_jurCO2\"]] = np.nan\n",
    "    \n",
    "    swap_list = {\"cov_tax_CO2_jurGHG\":\"cov_tax_CO2_supraGHG\", \"cov_tax_CO2_jurCO2\":\"cov_tax_CO2_supraCO2\", \"cov_ets_CO2_jurGHG\":\"cov_ets_CO2_supraGHG\", \n",
    "                 \"cov_ets_CO2_jurCO2\":\"cov_ets_CO2_supraCO2\", \"cov_all_CO2_jurGHG\":\"cov_all_CO2_supraGHG\", \"cov_all_CO2_jurCO2\":\"cov_all_CO2_supraCO2\",\n",
    "                 \"cov_tax_CO2_supraGHG\":\"cov_tax_CO2_jurGHG\", \"cov_tax_CO2_supraCO2\":\"cov_tax_CO2_jurCO2\", \"cov_ets_CO2_supraGHG\":\"cov_ets_CO2_jurGHG\", \n",
    "                 \"cov_ets_CO2_supraCO2\":\"cov_ets_CO2_jurCO2\", \"cov_all_CO2_supraGHG\":\"cov_all_CO2_jurGHG\", \"cov_all_CO2_supraCO2\":\"cov_all_CO2_jurCO2\"}\n",
    "    \n",
    "    temp.rename(columns=swap_list, inplace=True)\n",
    "\n",
    "    coverage_agg = coverage_agg.loc[coverage_agg.jurisdiction != subnat_list, :]\n",
    "    \n",
    "    coverage_agg = pd.concat([coverage_agg, temp])\n",
    "    "
   ]
  },
  {
   "cell_type": "code",
   "execution_count": 22,
   "metadata": {},
   "outputs": [],
   "source": [
    "# NA values for all entries of 'supra' columns of national jurisdictions\n",
    "\n",
    "all_subnat_list = us_states + can_prov + chn_prov\n",
    "supra_cols = [\"cov_tax_CO2_supraGHG\", \"cov_tax_CO2_supraCO2\", \"cov_ets_CO2_supraGHG\", \n",
    "              \"cov_ets_CO2_supraCO2\", \"cov_all_CO2_supraGHG\", \"cov_all_CO2_supraCO2\"]\n",
    "\n",
    "coverage_agg.loc[~coverage_agg.jurisdiction.isin(all_subnat_list), supra_cols] = np.nan"
   ]
  },
  {
   "cell_type": "code",
   "execution_count": 23,
   "metadata": {},
   "outputs": [],
   "source": [
    "coverage_agg_OUT = coverage_agg.fillna(\"NA\")\n",
    "coverage_agg_OUT.sort_values(by=[\"jurisdiction\", \"year\"]).to_csv(path_aux_data+\"/data/coverage/tot_coverage_jurisdiction.csv\", index=None) #total_coverage_2010scope.csv"
   ]
  },
  {
   "cell_type": "markdown",
   "metadata": {},
   "source": [
    "### II.2 World sectors"
   ]
  },
  {
   "cell_type": "code",
   "execution_count": 24,
   "metadata": {},
   "outputs": [
    {
     "name": "stderr",
     "output_type": "stream",
     "text": [
      "<ipython-input-24-1c196798eedb>:15: SettingWithCopyWarning: \n",
      "A value is trying to be set on a copy of a slice from a DataFrame.\n",
      "Try using .loc[row_indexer,col_indexer] = value instead\n",
      "\n",
      "See the caveats in the documentation: https://pandas.pydata.org/pandas-docs/stable/user_guide/indexing.html#returning-a-view-versus-a-copy\n",
      "  coverage_sect_agg_schemes[key] = coverage_sect[dic[key]].sum(axis=1)\n"
     ]
    }
   ],
   "source": [
    "coverage_sect = pd.concat([coverage_nat_sect, coverage_subnat_sect])\n",
    "\n",
    "cov_tax_columns_WldSectCO2 = [x for x in coverage_sect.columns if \"cov_tax\" in x and \"wld_sect\" in x]\n",
    "cov_ets_columns_WldSectCO2 = [x for x in coverage_sect.columns if \"cov_ets\" in x and \"wld_sect\" in x]\n",
    "cov_all_columns_WldSectCO2 = [x for x in coverage_sect.columns if \"cov_\" in x and \"wld_sect\" in x]\n",
    "\n",
    "tax_columns = {\"cov_tax_CO2_WldSectCO2\":cov_tax_columns_WldSectCO2}\n",
    "ets_columns = {\"cov_ets_CO2_WldSectCO2\":cov_ets_columns_WldSectCO2}\n",
    "all_columns = {\"cov_all_CO2_WldSectCO2\":cov_all_columns_WldSectCO2}\n",
    "\n",
    "coverage_sect_agg_schemes = coverage_sect[[\"jurisdiction\", \"year\", \"ipcc_code\", \"iea_code\", \"Product\"]]\n",
    "\n",
    "for dic in [tax_columns, ets_columns, all_columns]:\n",
    "    for key in dic.keys():\n",
    "        coverage_sect_agg_schemes[key] = coverage_sect[dic[key]].sum(axis=1)\n",
    "\n",
    "coverage_sect_agg_schemes = coverage_sect_agg_schemes.groupby(['ipcc_code','year']).sum()\n",
    "coverage_sect_agg_schemes.reset_index(inplace=True)"
   ]
  },
  {
   "cell_type": "code",
   "execution_count": 25,
   "metadata": {},
   "outputs": [],
   "source": [
    "coverage_sect_agg_schemes.to_csv(path_aux_data+\"/data/coverage/tot_coverage_world_sectors.csv\", index=None)"
   ]
  },
  {
   "cell_type": "markdown",
   "metadata": {},
   "source": [
    "# Emissions-weighted Carbon Price (ECP)\n",
    "Combines: (i) (total) coverage of ETS and associated price, (ii) user-fuel coverage of taxes and associated tax rates\n"
   ]
  },
  {
   "cell_type": "code",
   "execution_count": null,
   "metadata": {},
   "outputs": [],
   "source": [
    "wcpd_usd = ecp_cur_conv.cur_conv(wcpd_all, can, us, china)"
   ]
  },
  {
   "cell_type": "markdown",
   "metadata": {},
   "source": [
    "## I. ECP from ETS and taxes (CO2 only, time-varying and fixed weights, jurisdiction level)\n",
    "\n",
    "National and subnational jurisdictions, sectoral level"
   ]
  },
  {
   "cell_type": "code",
   "execution_count": 32,
   "metadata": {},
   "outputs": [],
   "source": [
    "#Bring together calculated emissions share at sector and sector-fuel level and carbon prices in kusd\n",
    "#!! need to make sure that `coverage_comb_nat` excludes all aggregate flows!!\n",
    "\n",
    "id_columns = [x for x in wcpd_usd.columns if bool(re.match(re.compile(\"ets.+_id\"), x))==True or bool(re.match(re.compile(\"tax.+_id\"), x))==True]\n",
    "price_columns = [x for x in wcpd_usd.columns if bool(re.match(re.compile(\"ets.+price_kusd\"), x))==True or bool(re.match(re.compile(\"tax.+rate.+kusd\"), x))==True]\n",
    "\n",
    "prices_usd = wcpd_usd[['jurisdiction', 'year', 'ipcc_code', 'iea_code', 'Product']+id_columns+price_columns]\n",
    "\n",
    "ecp_variables_map = {}"
   ]
  },
  {
   "cell_type": "code",
   "execution_count": 33,
   "metadata": {},
   "outputs": [],
   "source": [
    "\n",
    "def ecp(coverage_df, jur_level, weight_type, weight_year=None, sectors=bool):\n",
    "    \n",
    "    global ecp_variables_map \n",
    "    \n",
    "    if jur_level == \"national\":\n",
    "        merge_keys = [\"jurisdiction\", \"year\", \"ipcc_code\", \"iea_code\", \"Product\"]\n",
    "        prices_temp = prices_usd.copy()\n",
    "        \n",
    "    if jur_level == \"subnational\":\n",
    "        merge_keys = [\"jurisdiction\", \"year\", \"ipcc_code\", \"iea_code\"]\n",
    "        prices_temp = prices_usd.loc[prices_usd.Product==\"Natural gas\", :].copy()\n",
    "        prices_temp.drop([\"Product\"], axis=1, inplace=True)\n",
    "              \n",
    "    if weight_type==\"time_varying\":\n",
    "        temp_df = coverage_df.copy()\n",
    "        temp_df = temp_df.merge(prices_temp, on=merge_keys, how=\"left\")\n",
    "        \n",
    "    elif weight_type==\"fixed\":\n",
    "        temp_df = coverage_df.loc[coverage_df.year==weight_year, :]\n",
    "        temp_df.drop([\"year\"], axis=1, inplace=True)\n",
    "        fw_merge_keys = merge_keys.copy()\n",
    "        fw_merge_keys.remove(\"year\")\n",
    "        \n",
    "        temp_df = prices_temp.merge(temp_df, on=fw_merge_keys, how=\"left\")\n",
    "\n",
    "    ecp_variables_map = {\"ecp_ets_jurGHG_kusd\":[x for x in list(temp_df.columns) if bool(re.match(re.compile(\"ets.+price+.\"), x))==True or bool(re.match(re.compile(\"cov_ets.+jurGHG\"), x))==True], \n",
    "                         \"ecp_ets_jurCO2_kusd\":[x for x in list(temp_df.columns) if bool(re.match(re.compile(\"ets.+price+.\"), x))==True or bool(re.match(re.compile(\"cov_ets.+jurCO2\"), x))==True], \n",
    "                         \"ecp_ets_wldGHG_kusd\":[x for x in list(temp_df.columns) if bool(re.match(re.compile(\"ets.+price+.\"), x))==True or bool(re.match(re.compile(\"cov_ets.+wldGHG\"), x))==True],\n",
    "                         \"ecp_ets_wldCO2_kusd\":[x for x in list(temp_df.columns) if bool(re.match(re.compile(\"ets.+price+.\"), x))==True or bool(re.match(re.compile(\"cov_ets.+wldCO2\"), x))==True],\n",
    "                         \"ecp_tax_jurGHG_kusd\":[x for x in list(temp_df.columns) if bool(re.match(re.compile(\"tax.+rate+.\"), x))==True or bool(re.match(re.compile(\"cov_tax.+jurGHG\"), x))==True], \n",
    "                         \"ecp_tax_jurCO2_kusd\":[x for x in list(temp_df.columns) if bool(re.match(re.compile(\"tax.+rate+.\"), x))==True or bool(re.match(re.compile(\"cov_tax.+jurCO2\"), x))==True], \n",
    "                         \"ecp_tax_wldGHG_kusd\":[x for x in list(temp_df.columns) if bool(re.match(re.compile(\"tax.+rate+.\"), x))==True or bool(re.match(re.compile(\"cov_tax.+wldGHG\"), x))==True], \n",
    "                         \"ecp_tax_wldCO2_kusd\":[x for x in list(temp_df.columns) if bool(re.match(re.compile(\"tax.+rate+.\"), x))==True or bool(re.match(re.compile(\"cov_tax.+wldCO2\"), x))==True]}\n",
    "\n",
    "    ecp_variables_map_sect = {\"ecp_ets_sectCO2_kusd\":[x for x in list(temp_df.columns) if bool(re.match(re.compile(\"ets.+price+.\"), x))==True or bool(re.match(re.compile(\"cov_ets.+_share\"), x))==True], \n",
    "                              \"ecp_tax_sectCO2_kusd\":[x for x in list(temp_df.columns) if bool(re.match(re.compile(\"tax.+rate+.\"), x))==True or bool(re.match(re.compile(\"cov_tax.+_share\"), x))==True]}\n",
    "    \n",
    "    \n",
    "    if jur_level == \"subnational\" and sectors == False:\n",
    "        ecp_variables_map[\"ecp_ets_supraGHG_kusd\"] = [x for x in list(temp_df.columns) if bool(re.match(re.compile(\"ets.+price+.\"), x))==True or bool(re.match(re.compile(\"cov_ets.+supraGHG\"), x))==True]\n",
    "        ecp_variables_map[\"ecp_ets_supraCO2_kusd\"] = [x for x in list(temp_df.columns) if bool(re.match(re.compile(\"ets.+price+.\"), x))==True or bool(re.match(re.compile(\"cov_ets.+supraCO2\"), x))==True]\n",
    "        ecp_variables_map[\"ecp_tax_supraGHG_kusd\"] = [x for x in list(temp_df.columns) if bool(re.match(re.compile(\"tax.+rate+.\"), x))==True or bool(re.match(re.compile(\"cov_tax.+supraGHG\"), x))==True]\n",
    "        ecp_variables_map[\"ecp_tax_supraCO2_kusd\"] = [x for x in list(temp_df.columns) if bool(re.match(re.compile(\"tax.+rate+.\"), x))==True or bool(re.match(re.compile(\"cov_tax.+supraCO2\"), x))==True]\n",
    "\n",
    "    if sectors == False:\n",
    "        ecp_mapping = ecp_variables_map\n",
    "    elif sectors == True:\n",
    "        ecp_mapping = ecp_variables_map_sect\n",
    "    \n",
    "    for key in ecp_mapping.keys():\n",
    "        temp_df[key] = 0\n",
    "        list_length = len(ecp_mapping[key])\n",
    "        \n",
    "        for i in range(0, list_length, 2):\n",
    "            temp_df[key] += temp_df[ecp_mapping[key][i]]*temp_df[ecp_mapping[key][i+1]]\n",
    "        \n",
    "        temp_df[key] = temp_df[key].astype(float)\n",
    "    \n",
    "    temp_df = temp_df[merge_keys+list(ecp_mapping.keys())] \n",
    "    \n",
    "    \n",
    "    temp_df = temp_df.fillna(0) # CHECK WHY IT \"NA\" VALUES ARE PRODUCED IN THE FIRST PLACE\n",
    "\n",
    "    \n",
    "    if sectors == False:\n",
    "        temp_df[\"ecp_all_jurGHG_kusd\"] = temp_df[\"ecp_tax_jurGHG_kusd\"]+temp_df[\"ecp_ets_jurGHG_kusd\"]\n",
    "        temp_df[\"ecp_all_jurCO2_kusd\"] = temp_df[\"ecp_tax_jurCO2_kusd\"]+temp_df[\"ecp_ets_jurCO2_kusd\"]\n",
    "        temp_df[\"ecp_all_wldGHG_kusd\"] = temp_df[\"ecp_tax_wldGHG_kusd\"]+temp_df[\"ecp_ets_wldGHG_kusd\"]\n",
    "        temp_df[\"ecp_all_wldCO2_kusd\"] = temp_df[\"ecp_tax_wldCO2_kusd\"]+temp_df[\"ecp_ets_wldCO2_kusd\"]\n",
    "\n",
    "    elif sectors == True:\n",
    "        temp_df[\"ecp_all_sectCO2_kusd\"] = temp_df[\"ecp_tax_sectCO2_kusd\"]+temp_df[\"ecp_ets_sectCO2_kusd\"]\n",
    "        \n",
    "    if jur_level == \"subnational\" and sectors == False:\n",
    "        temp_df[\"ecp_all_supraGHG_kusd\"] = temp_df[\"ecp_tax_supraGHG_kusd\"]+temp_df[\"ecp_ets_supraGHG_kusd\"]\n",
    "        temp_df[\"ecp_all_supraCO2_kusd\"] = temp_df[\"ecp_tax_supraCO2_kusd\"]+temp_df[\"ecp_ets_supraCO2_kusd\"]\n",
    "        \n",
    "    temp_df = temp_df.loc[~temp_df.ipcc_code.isin(flow_excl), :] # exclude aggregate sectors to avoid double counting\n",
    "    \n",
    "    return temp_df\n",
    "    "
   ]
  },
  {
   "cell_type": "code",
   "execution_count": 34,
   "metadata": {},
   "outputs": [
    {
     "name": "stderr",
     "output_type": "stream",
     "text": [
      "/opt/anaconda3/lib/python3.8/site-packages/pandas/core/frame.py:4163: SettingWithCopyWarning: \n",
      "A value is trying to be set on a copy of a slice from a DataFrame\n",
      "\n",
      "See the caveats in the documentation: https://pandas.pydata.org/pandas-docs/stable/user_guide/indexing.html#returning-a-view-versus-a-copy\n",
      "  return super().drop(\n",
      "/opt/anaconda3/lib/python3.8/site-packages/pandas/core/frame.py:4163: SettingWithCopyWarning: \n",
      "A value is trying to be set on a copy of a slice from a DataFrame\n",
      "\n",
      "See the caveats in the documentation: https://pandas.pydata.org/pandas-docs/stable/user_guide/indexing.html#returning-a-view-versus-a-copy\n",
      "  return super().drop(\n"
     ]
    }
   ],
   "source": [
    "ecp_tv_nat = ecp(coverage_nat, \"national\", \"time_varying\", sectors=False)\n",
    "ecp_tv_subnat = ecp(coverage_subnat, \"subnational\", \"time_varying\", sectors=False)\n",
    "ecp_tv = pd.concat([ecp_tv_nat, ecp_tv_subnat])\n",
    "\n",
    "ecp_fixed_nat = ecp(coverage_nat, \"national\", \"fixed\", 2015, sectors=False)\n",
    "ecp_fixed_subnat = ecp(coverage_subnat, \"subnational\", \"fixed\", 2015, sectors=False)\n",
    "ecp_fixed = pd.concat([ecp_fixed_nat, ecp_fixed_subnat])"
   ]
  },
  {
   "cell_type": "code",
   "execution_count": 35,
   "metadata": {},
   "outputs": [
    {
     "ename": "IndexError",
     "evalue": "list index out of range",
     "output_type": "error",
     "traceback": [
      "\u001b[0;31m---------------------------------------------------------------------------\u001b[0m",
      "\u001b[0;31mIndexError\u001b[0m                                Traceback (most recent call last)",
      "\u001b[0;32m<ipython-input-35-9a55ccbc73bd>\u001b[0m in \u001b[0;36m<module>\u001b[0;34m\u001b[0m\n\u001b[0;32m----> 1\u001b[0;31m \u001b[0mecp_tv_nat_sect\u001b[0m \u001b[0;34m=\u001b[0m \u001b[0mecp\u001b[0m\u001b[0;34m(\u001b[0m\u001b[0mcoverage_nat_sect\u001b[0m\u001b[0;34m,\u001b[0m \u001b[0;34m\"national\"\u001b[0m\u001b[0;34m,\u001b[0m \u001b[0;34m\"time_varying\"\u001b[0m\u001b[0;34m,\u001b[0m \u001b[0msectors\u001b[0m\u001b[0;34m=\u001b[0m\u001b[0;32mTrue\u001b[0m\u001b[0;34m)\u001b[0m\u001b[0;34m\u001b[0m\u001b[0;34m\u001b[0m\u001b[0m\n\u001b[0m\u001b[1;32m      2\u001b[0m \u001b[0;34m\u001b[0m\u001b[0m\n\u001b[1;32m      3\u001b[0m \u001b[0;31m#ecp_tv_subnat_sect = ecp(coverage_subnat_sect, \"subnational\", \"time_varying\")\u001b[0m\u001b[0;34m\u001b[0m\u001b[0;34m\u001b[0m\u001b[0;34m\u001b[0m\u001b[0m\n\u001b[1;32m      4\u001b[0m \u001b[0;31m#ecp_tv_sect = pd.concat([ecp_tv_nat_sect, ecp_tv_subnat_sect])\u001b[0m\u001b[0;34m\u001b[0m\u001b[0;34m\u001b[0m\u001b[0;34m\u001b[0m\u001b[0m\n\u001b[1;32m      5\u001b[0m \u001b[0;34m\u001b[0m\u001b[0m\n",
      "\u001b[0;32m<ipython-input-33-1596b88c6dc4>\u001b[0m in \u001b[0;36mecp\u001b[0;34m(coverage_df, jur_level, weight_type, weight_year, sectors)\u001b[0m\n\u001b[1;32m     53\u001b[0m \u001b[0;34m\u001b[0m\u001b[0m\n\u001b[1;32m     54\u001b[0m         \u001b[0;32mfor\u001b[0m \u001b[0mi\u001b[0m \u001b[0;32min\u001b[0m \u001b[0mrange\u001b[0m\u001b[0;34m(\u001b[0m\u001b[0;36m0\u001b[0m\u001b[0;34m,\u001b[0m \u001b[0mlist_length\u001b[0m\u001b[0;34m,\u001b[0m \u001b[0;36m2\u001b[0m\u001b[0;34m)\u001b[0m\u001b[0;34m:\u001b[0m\u001b[0;34m\u001b[0m\u001b[0;34m\u001b[0m\u001b[0m\n\u001b[0;32m---> 55\u001b[0;31m             \u001b[0mtemp_df\u001b[0m\u001b[0;34m[\u001b[0m\u001b[0mkey\u001b[0m\u001b[0;34m]\u001b[0m \u001b[0;34m+=\u001b[0m \u001b[0mtemp_df\u001b[0m\u001b[0;34m[\u001b[0m\u001b[0mecp_mapping\u001b[0m\u001b[0;34m[\u001b[0m\u001b[0mkey\u001b[0m\u001b[0;34m]\u001b[0m\u001b[0;34m[\u001b[0m\u001b[0mi\u001b[0m\u001b[0;34m]\u001b[0m\u001b[0;34m]\u001b[0m\u001b[0;34m*\u001b[0m\u001b[0mtemp_df\u001b[0m\u001b[0;34m[\u001b[0m\u001b[0mecp_mapping\u001b[0m\u001b[0;34m[\u001b[0m\u001b[0mkey\u001b[0m\u001b[0;34m]\u001b[0m\u001b[0;34m[\u001b[0m\u001b[0mi\u001b[0m\u001b[0;34m+\u001b[0m\u001b[0;36m1\u001b[0m\u001b[0;34m]\u001b[0m\u001b[0;34m]\u001b[0m\u001b[0;34m\u001b[0m\u001b[0;34m\u001b[0m\u001b[0m\n\u001b[0m\u001b[1;32m     56\u001b[0m \u001b[0;34m\u001b[0m\u001b[0m\n\u001b[1;32m     57\u001b[0m         \u001b[0mtemp_df\u001b[0m\u001b[0;34m[\u001b[0m\u001b[0mkey\u001b[0m\u001b[0;34m]\u001b[0m \u001b[0;34m=\u001b[0m \u001b[0mtemp_df\u001b[0m\u001b[0;34m[\u001b[0m\u001b[0mkey\u001b[0m\u001b[0;34m]\u001b[0m\u001b[0;34m.\u001b[0m\u001b[0mastype\u001b[0m\u001b[0;34m(\u001b[0m\u001b[0mfloat\u001b[0m\u001b[0;34m)\u001b[0m\u001b[0;34m\u001b[0m\u001b[0;34m\u001b[0m\u001b[0m\n",
      "\u001b[0;31mIndexError\u001b[0m: list index out of range"
     ]
    }
   ],
   "source": [
    "ecp_tv_nat_sect = ecp(coverage_nat_sect, \"national\", \"time_varying\", sectors=True)\n",
    "\n",
    "#ecp_tv_subnat_sect = ecp(coverage_subnat_sect, \"subnational\", \"time_varying\")\n",
    "#ecp_tv_sect = pd.concat([ecp_tv_nat_sect, ecp_tv_subnat_sect])\n",
    "\n",
    "#ecp_fixed_nat_sect = ecp(coverage_nat_sect, \"national\", \"fixed\", 2015)\n",
    "#ecp_fixed_subnat_sect = ecp(coverage_subnat_sect, \"subnational\", \"fixed\", 2015)\n",
    "#ecp_fixed_sect = pd.concat([ecp_fixed_nat, ecp_fixed_subnat])"
   ]
  },
  {
   "cell_type": "code",
   "execution_count": 114,
   "metadata": {},
   "outputs": [],
   "source": [
    "ecp_tv_nat_sect.groupby([\"ipcc_code\", \"year\"]).sum().to_csv(path_aux_data+\"/data/ecp/ecp_sectors_wld/world_sectoral_ecp.csv\")\n"
   ]
  },
  {
   "cell_type": "code",
   "execution_count": 36,
   "metadata": {},
   "outputs": [],
   "source": [
    "def ecp_aggregation(ecp_df):\n",
    "\n",
    "    global ecp_agg\n",
    "    \n",
    "    ecp_agg = ecp_df.groupby([\"jurisdiction\", \"year\"]).sum()\n",
    "    ecp_agg.reset_index(inplace=True)\n",
    "\n",
    "    #World calculations\n",
    "    ecp_world_agg = ecp_agg[[\"jurisdiction\",\"year\", 'ecp_ets_wldGHG_kusd', 'ecp_ets_wldCO2_kusd',\n",
    "                             'ecp_tax_wldGHG_kusd', 'ecp_tax_wldCO2_kusd']]\n",
    "\n",
    "    ecp_world_agg = ecp_world_agg.groupby(['year']).sum()\n",
    "\n",
    "    cols_map = {\"ecp_tax_wldGHG_kusd\":\"ecp_tax_jurGHG_kusd\", \"ecp_tax_wldCO2_kusd\":\"ecp_tax_jurCO2_kusd\",\n",
    "                \"ecp_ets_wldGHG_kusd\":\"ecp_ets_jurGHG_kusd\", \"ecp_ets_wldCO2_kusd\":\"ecp_ets_jurCO2_kusd\"}\n",
    "\n",
    "    ecp_world_agg.rename(columns=cols_map, inplace=True)\n",
    "    ecp_world_agg[\"jurisdiction\"] = \"World\"\n",
    "    ecp_world_agg.reset_index(inplace=True)\n",
    "\n",
    "    ecp_agg = pd.concat([ecp_agg, ecp_world_agg])\n",
    "\n",
    "    # all schemes ecp\n",
    "    ecp_agg[\"ecp_all_jurGHG_kusd\"] = ecp_agg.ecp_tax_jurGHG_kusd + ecp_agg.ecp_ets_jurGHG_kusd\n",
    "    ecp_agg[\"ecp_all_jurCO2_kusd\"] = ecp_agg.ecp_tax_jurCO2_kusd + ecp_agg.ecp_ets_jurCO2_kusd\n",
    "    ecp_agg[\"ecp_all_supraGHG_kusd\"] = ecp_agg.ecp_tax_supraGHG_kusd + ecp_agg.ecp_ets_supraGHG_kusd\n",
    "    ecp_agg[\"ecp_all_supraCO2_kusd\"] = ecp_agg.ecp_tax_supraCO2_kusd + ecp_agg.ecp_ets_supraCO2_kusd\n",
    "\n",
    "    return ecp_agg"
   ]
  },
  {
   "cell_type": "code",
   "execution_count": 37,
   "metadata": {},
   "outputs": [],
   "source": [
    "ecp_tv_agg = ecp_aggregation(ecp_tv)\n",
    "ecp_fixed_agg = ecp_aggregation(ecp_fixed)\n",
    "            \n"
   ]
  },
  {
   "cell_type": "markdown",
   "metadata": {},
   "source": [
    "**National-level ecp from subnational schemes**"
   ]
  },
  {
   "cell_type": "code",
   "execution_count": 38,
   "metadata": {},
   "outputs": [],
   "source": [
    "\n",
    "subnat_lists = {\"United States\":us_states, \"Canada\":can_prov, \"China\":chn_prov}\n",
    "ecp_list = {\"time_varying\":ecp_tv_agg, \"fixed_weights\":ecp_fixed_agg}\n",
    "\n",
    "def national_from_subnat(df, list_subnat):\n",
    "    temp = df.loc[df.jurisdiction.isin(list_subnat), :]\n",
    "    temp = temp.groupby([\"year\"]).sum()\n",
    "    temp.reset_index(inplace=True)\n",
    "    temp[\"jurisdiction\"] = key\n",
    "\n",
    "    temp[[\"ecp_ets_jurGHG_kusd\", \"ecp_tax_jurGHG_kusd\", \n",
    "          \"ecp_ets_jurCO2_kusd\", \"ecp_tax_jurCO2_kusd\", \n",
    "          \"ecp_all_jurGHG_kusd\", \"ecp_all_jurGHG_kusd\"]] = np.nan\n",
    "\n",
    "    swap_list = {\"ecp_ets_jurGHG_kusd\":\"ecp_ets_supraGHG_kusd\", \"ecp_tax_jurGHG_kusd\":\"ecp_tax_supraGHG_kusd\", \n",
    "                 \"ecp_ets_jurCO2_kusd\":\"ecp_ets_supraCO2_kusd\", \"ecp_tax_jurCO2_kusd\":\"ecp_tax_supraCO2_kusd\", \n",
    "                 \"ecp_all_jurGHG_kusd\":\"ecp_all_supraGHG_kusd\", \"ecp_all_jurCO2_kusd\":\"ecp_all_supraCO2_kusd\",\n",
    "                 \"ecp_ets_supraGHG_kusd\":\"ecp_ets_jurGHG_kusd\", \"ecp_tax_supraGHG_kusd\":\"ecp_tax_jurGHG_kusd\", \n",
    "                 \"ecp_ets_supraCO2_kusd\":\"ecp_ets_jurCO2_kusd\", \"ecp_tax_supraCO2_kusd\":\"ecp_tax_jurCO2_kusd\", \n",
    "                 \"ecp_all_supraGHG_kusd\":\"ecp_all_jurGHG_kusd\", \"ecp_all_supraCO2_kusd\":\"ecp_all_jurCO2_kusd\"}\n",
    "\n",
    "    temp.rename(columns=swap_list, inplace=True)\n",
    "\n",
    "    df = df.loc[df.jurisdiction != key, :]\n",
    "    df = pd.concat([df, temp])\n",
    "        \n",
    "    return df\n",
    "\n",
    "for key in subnat_lists.keys():\n",
    "    ecp_tv_agg = national_from_subnat(ecp_tv_agg, subnat_lists[key])\n",
    "    ecp_fixed_agg = national_from_subnat(ecp_tv_agg, subnat_lists[key])"
   ]
  },
  {
   "cell_type": "code",
   "execution_count": 39,
   "metadata": {},
   "outputs": [],
   "source": [
    "# NA values for all entries of 'supra' columns of national jurisdictions\n",
    "all_subnat_list = us_states + can_prov + chn_prov\n",
    "supra_cols = [\"ecp_ets_supraGHG_kusd\", \"ecp_tax_supraGHG_kusd\", \n",
    "              \"ecp_ets_supraCO2_kusd\", \"ecp_tax_supraCO2_kusd\", \n",
    "              \"ecp_all_supraGHG_kusd\", \"ecp_all_supraCO2_kusd\"]\n",
    "\n",
    "for df in [ecp_tv_agg, ecp_fixed_agg]:\n",
    "    df.loc[~df.jurisdiction.isin(all_subnat_list), supra_cols] = np.nan"
   ]
  },
  {
   "cell_type": "code",
   "execution_count": 40,
   "metadata": {},
   "outputs": [],
   "source": [
    "col_sel = [\"jurisdiction\", \"year\", \n",
    "           'ecp_ets_jurGHG_kusd', 'ecp_tax_jurGHG_kusd', \"ecp_all_jurGHG_kusd\", \n",
    "           'ecp_ets_jurCO2_kusd', 'ecp_tax_jurCO2_kusd', \"ecp_all_jurCO2_kusd\",\n",
    "           'ecp_ets_supraGHG_kusd', 'ecp_tax_supraGHG_kusd', \"ecp_all_supraGHG_kusd\", \n",
    "           'ecp_ets_supraCO2_kusd', 'ecp_tax_supraCO2_kusd', \"ecp_all_supraCO2_kusd\"]\n",
    "\n",
    "ecp_tv_agg[col_sel].fillna(\"NA\").sort_values(by=[\"jurisdiction\", \"year\"]).to_csv(path_aux_data+\"/data/ecp/ecp_economy/ecp_vw/ecp_tvV.csv\", index=None)\n",
    "ecp_fixed_agg[col_sel].fillna(\"NA\").sort_values(by=[\"jurisdiction\", \"year\"]).to_csv(path_aux_data+\"/data/ecp/ecp_economy/ecp_fw/ecp_fixedV.csv\", index=None)"
   ]
  },
  {
   "cell_type": "markdown",
   "metadata": {},
   "source": [
    "## II. Calculation of ECP from ETS and taxes (CO2 only, constant, jurisdiction-specific weights, jurisdiction level)"
   ]
  },
  {
   "cell_type": "code",
   "execution_count": 391,
   "metadata": {},
   "outputs": [
    {
     "name": "stderr",
     "output_type": "stream",
     "text": [
      "/opt/anaconda3/lib/python3.7/site-packages/pandas/core/indexing.py:844: SettingWithCopyWarning: \n",
      "A value is trying to be set on a copy of a slice from a DataFrame.\n",
      "Try using .loc[row_indexer,col_indexer] = value instead\n",
      "\n",
      "See the caveats in the documentation: https://pandas.pydata.org/pandas-docs/stable/user_guide/indexing.html#returning-a-view-versus-a-copy\n",
      "  self.obj[key] = _infer_fill_value(value)\n",
      "/opt/anaconda3/lib/python3.7/site-packages/pandas/core/indexing.py:965: SettingWithCopyWarning: \n",
      "A value is trying to be set on a copy of a slice from a DataFrame.\n",
      "Try using .loc[row_indexer,col_indexer] = value instead\n",
      "\n",
      "See the caveats in the documentation: https://pandas.pydata.org/pandas-docs/stable/user_guide/indexing.html#returning-a-view-versus-a-copy\n",
      "  self.obj[item] = s\n"
     ]
    }
   ],
   "source": [
    "#Information needed (need two dataframes): \n",
    "#- at sector level: year of first implementation of carbon pricing on any fuel (one with the list of jurisdiction and year of implementation of first scheme)\n",
    "#- at jurisdiction level: year of first implementation of carbon pricing in any sector (one with the list of jurisdiction-sector entries and year of implementation of first scheme)\n",
    "\n",
    "first_year = cp_all_subset[['jurisdiction', 'year', 'ipcc_code', 'IEA_CODE', 'Product', 'tax', 'ets']]\n",
    "\n",
    "first_year.loc[:, \"pricing\"] = first_year.loc[:, \"tax\"] + first_year.loc[:, \"ets\"]\n",
    "first_year.loc[:, \"pricing\"] = np.where(first_year.loc[:, \"pricing\"] > 0, 1.0,0.0)\n",
    "first_year = first_year.drop([\"tax\", \"ets\"], axis=1)\n",
    "first_year = first_year.loc[first_year.pricing == 1,]\n",
    "first_year.sort_values(by=[\"jurisdiction\", \"year\", \"ipcc_code\", \"Product\"], ascending=True, inplace=True)\n",
    "\n",
    "first_year.drop_duplicates(subset=[\"jurisdiction\", \"ipcc_code\", \"Product\"], inplace=True)\n",
    "\n",
    "# jurisdiction-level, recording year prior to first year of pricing mechanism implementation\n",
    "first_year_jur = first_year.groupby([\"jurisdiction\", \"year\"]).sum()\n",
    "first_year_jur.loc[:, \"pricing\"] = np.where(first_year_jur.loc[:, \"pricing\"] > 0, 1.0, 0.0)\n",
    "first_year_jur.reset_index(inplace=True)\n",
    "\n",
    "first_year_jur = first_year_jur.drop_duplicates(subset=[\"jurisdiction\"])\n",
    "first_year_jur[\"year\"] = first_year_jur[\"year\"]-1 # to take the year before first year of implementation\n",
    "first_year_jur = first_year_jur.drop(\"pricing\", axis=1)\n",
    "\n",
    "first_year_jur = pd.Series(first_year_jur.year.values,index=first_year_jur.jurisdiction).to_dict()\n",
    "\n",
    "## adjustment needed for Finland and Poland - their respective schemes started in 1990 so 1989 should be the reference year for\n",
    "## emissions. However, because GHG/CO2 CAIT series start in 1990, shares series start in 1990\n",
    "first_year_jur[\"Finland\"] = 1990\n",
    "first_year_jur[\"Poland\"] = 1990\n"
   ]
  },
  {
   "cell_type": "code",
   "execution_count": 392,
   "metadata": {},
   "outputs": [],
   "source": [
    "def ecp_const_intro(share_df, temp_cp, prices):\n",
    "    \n",
    "    df_concat = pd.DataFrame()\n",
    "\n",
    "    for jur in share_df.jurisdiction.unique():\n",
    "        if jur in first_year_jur.keys():\n",
    "            weight_year = first_year_jur[jur]\n",
    "        else:\n",
    "            weight_year = 2015\n",
    "    \n",
    "        share_df_jur = share_df[(share_df[\"jurisdiction\"]==jur)]\n",
    "        temp_cp_jur = temp_cp.loc[(temp_cp[\"jurisdiction\"]==jur), :]\n",
    "\n",
    "        x = ecp_const(share_df_jur, weight_year, temp_cp_jur, prices)\n",
    "        \n",
    "        if df_concat.empty == True:\n",
    "            df_concat = x\n",
    "        else:\n",
    "            df_concat = pd.concat([df_concat, x])\n",
    "        \n",
    "    return df_concat\n",
    "\n"
   ]
  },
  {
   "cell_type": "code",
   "execution_count": 393,
   "metadata": {},
   "outputs": [],
   "source": [
    "ecp_const_intro_comb_nat = ecp_const_intro(combustion_nat_share, cp_all_subset, prices_usd)\n",
    "ecp_const_intro_comb_subnat = ecp_const_intro(combustion_subnat_share, cp_all_subset, prices_usd)\n",
    "ecp_const_intro_fuind = ecp_const_intro(fuind_share, cp_all_subset, prices_usd)\n"
   ]
  },
  {
   "cell_type": "code",
   "execution_count": 394,
   "metadata": {},
   "outputs": [],
   "source": [
    "ecp_aggregation([ecp_const_intro_comb_nat, ecp_const_intro_comb_subnat, ecp_const_intro_fuind])\n",
    "\n",
    "col_sel = [\"jurisdiction\", \"year\", 'ECP_ets_jurGHG_kusd', 'ECP_tax_jurGHG_kusd',\n",
    "           \"ECP_tax_ets_jurGHG_kusd\", 'ECP_ets_jurCO2_kusd', 'ECP_tax_jurCO2_kusd', \"ECP_tax_ets_jurCO2_kusd\"]\n",
    "\n",
    "ecp_agg.loc[ecp_agg.year<=2018][col_sel].to_csv(path_aux_data+\"/ecp_calculation/ecp/ecp_economy/ecp_intro/ecp_intro.csv\", index=None)"
   ]
  }
 ],
 "metadata": {
  "kernelspec": {
   "display_name": "Python 3 (ipykernel)",
   "language": "python",
   "name": "python3"
  },
  "language_info": {
   "codemirror_mode": {
    "name": "ipython",
    "version": 3
   },
   "file_extension": ".py",
   "mimetype": "text/x-python",
   "name": "python",
   "nbconvert_exporter": "python",
   "pygments_lexer": "ipython3",
   "version": "3.10.4"
  }
 },
 "nbformat": 4,
 "nbformat_minor": 4
}
